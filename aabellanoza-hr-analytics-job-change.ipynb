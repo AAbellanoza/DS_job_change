{
 "cells": [
  {
   "cell_type": "markdown",
   "metadata": {
    "papermill": {
     "duration": 0.021384,
     "end_time": "2021-02-27T23:40:02.892560",
     "exception": false,
     "start_time": "2021-02-27T23:40:02.871176",
     "status": "completed"
    },
    "tags": []
   },
   "source": [
    "# **Predicting Job Change using Python**\n",
    "\n",
    "This notebook covers how to use Python machine learning libraries to construct a predictive model from HR data. The dataset is from the Kaggle task \"HR Analytics: Job Change of Data Scientists\" provided by user Möbius (https://www.kaggle.com/arashnic/hr-analytics-job-change-of-data-scientists)\n",
    "\n",
    "First, we'll take a look at the two datasets. We'll load up some useful libraries, and create dataframes from the .csv files provided. We'll also set a RandomState for reproducibility."
   ]
  },
  {
   "cell_type": "code",
   "execution_count": 1,
   "metadata": {
    "execution": {
     "iopub.execute_input": "2021-02-27T23:40:02.938993Z",
     "iopub.status.busy": "2021-02-27T23:40:02.938357Z",
     "iopub.status.idle": "2021-02-27T23:40:03.068947Z",
     "shell.execute_reply": "2021-02-27T23:40:03.068284Z"
    },
    "papermill": {
     "duration": 0.156801,
     "end_time": "2021-02-27T23:40:03.069145",
     "exception": false,
     "start_time": "2021-02-27T23:40:02.912344",
     "status": "completed"
    },
    "tags": []
   },
   "outputs": [
    {
     "data": {
      "text/html": [
       "<div>\n",
       "<style scoped>\n",
       "    .dataframe tbody tr th:only-of-type {\n",
       "        vertical-align: middle;\n",
       "    }\n",
       "\n",
       "    .dataframe tbody tr th {\n",
       "        vertical-align: top;\n",
       "    }\n",
       "\n",
       "    .dataframe thead th {\n",
       "        text-align: right;\n",
       "    }\n",
       "</style>\n",
       "<table border=\"1\" class=\"dataframe\">\n",
       "  <thead>\n",
       "    <tr style=\"text-align: right;\">\n",
       "      <th></th>\n",
       "      <th>enrollee_id</th>\n",
       "      <th>city</th>\n",
       "      <th>city_development_index</th>\n",
       "      <th>gender</th>\n",
       "      <th>relevent_experience</th>\n",
       "      <th>enrolled_university</th>\n",
       "      <th>education_level</th>\n",
       "      <th>major_discipline</th>\n",
       "      <th>experience</th>\n",
       "      <th>company_size</th>\n",
       "      <th>company_type</th>\n",
       "      <th>last_new_job</th>\n",
       "      <th>training_hours</th>\n",
       "      <th>target</th>\n",
       "    </tr>\n",
       "  </thead>\n",
       "  <tbody>\n",
       "    <tr>\n",
       "      <th>0</th>\n",
       "      <td>8949</td>\n",
       "      <td>city_103</td>\n",
       "      <td>0.920</td>\n",
       "      <td>Male</td>\n",
       "      <td>Has relevent experience</td>\n",
       "      <td>no_enrollment</td>\n",
       "      <td>Graduate</td>\n",
       "      <td>STEM</td>\n",
       "      <td>&gt;20</td>\n",
       "      <td>NaN</td>\n",
       "      <td>NaN</td>\n",
       "      <td>1</td>\n",
       "      <td>36</td>\n",
       "      <td>1.0</td>\n",
       "    </tr>\n",
       "    <tr>\n",
       "      <th>1</th>\n",
       "      <td>29725</td>\n",
       "      <td>city_40</td>\n",
       "      <td>0.776</td>\n",
       "      <td>Male</td>\n",
       "      <td>No relevent experience</td>\n",
       "      <td>no_enrollment</td>\n",
       "      <td>Graduate</td>\n",
       "      <td>STEM</td>\n",
       "      <td>15</td>\n",
       "      <td>50-99</td>\n",
       "      <td>Pvt Ltd</td>\n",
       "      <td>&gt;4</td>\n",
       "      <td>47</td>\n",
       "      <td>0.0</td>\n",
       "    </tr>\n",
       "    <tr>\n",
       "      <th>2</th>\n",
       "      <td>11561</td>\n",
       "      <td>city_21</td>\n",
       "      <td>0.624</td>\n",
       "      <td>NaN</td>\n",
       "      <td>No relevent experience</td>\n",
       "      <td>Full time course</td>\n",
       "      <td>Graduate</td>\n",
       "      <td>STEM</td>\n",
       "      <td>5</td>\n",
       "      <td>NaN</td>\n",
       "      <td>NaN</td>\n",
       "      <td>never</td>\n",
       "      <td>83</td>\n",
       "      <td>0.0</td>\n",
       "    </tr>\n",
       "    <tr>\n",
       "      <th>3</th>\n",
       "      <td>33241</td>\n",
       "      <td>city_115</td>\n",
       "      <td>0.789</td>\n",
       "      <td>NaN</td>\n",
       "      <td>No relevent experience</td>\n",
       "      <td>NaN</td>\n",
       "      <td>Graduate</td>\n",
       "      <td>Business Degree</td>\n",
       "      <td>&lt;1</td>\n",
       "      <td>NaN</td>\n",
       "      <td>Pvt Ltd</td>\n",
       "      <td>never</td>\n",
       "      <td>52</td>\n",
       "      <td>1.0</td>\n",
       "    </tr>\n",
       "    <tr>\n",
       "      <th>4</th>\n",
       "      <td>666</td>\n",
       "      <td>city_162</td>\n",
       "      <td>0.767</td>\n",
       "      <td>Male</td>\n",
       "      <td>Has relevent experience</td>\n",
       "      <td>no_enrollment</td>\n",
       "      <td>Masters</td>\n",
       "      <td>STEM</td>\n",
       "      <td>&gt;20</td>\n",
       "      <td>50-99</td>\n",
       "      <td>Funded Startup</td>\n",
       "      <td>4</td>\n",
       "      <td>8</td>\n",
       "      <td>0.0</td>\n",
       "    </tr>\n",
       "  </tbody>\n",
       "</table>\n",
       "</div>"
      ],
      "text/plain": [
       "   enrollee_id      city  city_development_index gender  \\\n",
       "0         8949  city_103                   0.920   Male   \n",
       "1        29725   city_40                   0.776   Male   \n",
       "2        11561   city_21                   0.624    NaN   \n",
       "3        33241  city_115                   0.789    NaN   \n",
       "4          666  city_162                   0.767   Male   \n",
       "\n",
       "       relevent_experience enrolled_university education_level  \\\n",
       "0  Has relevent experience       no_enrollment        Graduate   \n",
       "1   No relevent experience       no_enrollment        Graduate   \n",
       "2   No relevent experience    Full time course        Graduate   \n",
       "3   No relevent experience                 NaN        Graduate   \n",
       "4  Has relevent experience       no_enrollment         Masters   \n",
       "\n",
       "  major_discipline experience company_size    company_type last_new_job  \\\n",
       "0             STEM        >20          NaN             NaN            1   \n",
       "1             STEM         15        50-99         Pvt Ltd           >4   \n",
       "2             STEM          5          NaN             NaN        never   \n",
       "3  Business Degree         <1          NaN         Pvt Ltd        never   \n",
       "4             STEM        >20        50-99  Funded Startup            4   \n",
       "\n",
       "   training_hours  target  \n",
       "0              36     1.0  \n",
       "1              47     0.0  \n",
       "2              83     0.0  \n",
       "3              52     1.0  \n",
       "4               8     0.0  "
      ]
     },
     "execution_count": 1,
     "metadata": {},
     "output_type": "execute_result"
    }
   ],
   "source": [
    "import numpy as np\n",
    "import pandas as pd\n",
    "\n",
    "rng = np.random.RandomState(123)\n",
    "train = pd.read_csv(\"../input/hr-analytics-job-change-of-data-scientists/aug_train.csv\")\n",
    "test = pd.read_csv(\"../input/hr-analytics-job-change-of-data-scientists/aug_test.csv\")\n",
    "\n",
    "train.head()"
   ]
  },
  {
   "cell_type": "code",
   "execution_count": 2,
   "metadata": {
    "execution": {
     "iopub.execute_input": "2021-02-27T23:40:03.129806Z",
     "iopub.status.busy": "2021-02-27T23:40:03.128803Z",
     "iopub.status.idle": "2021-02-27T23:40:03.133617Z",
     "shell.execute_reply": "2021-02-27T23:40:03.133011Z"
    },
    "papermill": {
     "duration": 0.043821,
     "end_time": "2021-02-27T23:40:03.133761",
     "exception": false,
     "start_time": "2021-02-27T23:40:03.089940",
     "status": "completed"
    },
    "tags": []
   },
   "outputs": [
    {
     "data": {
      "text/html": [
       "<div>\n",
       "<style scoped>\n",
       "    .dataframe tbody tr th:only-of-type {\n",
       "        vertical-align: middle;\n",
       "    }\n",
       "\n",
       "    .dataframe tbody tr th {\n",
       "        vertical-align: top;\n",
       "    }\n",
       "\n",
       "    .dataframe thead th {\n",
       "        text-align: right;\n",
       "    }\n",
       "</style>\n",
       "<table border=\"1\" class=\"dataframe\">\n",
       "  <thead>\n",
       "    <tr style=\"text-align: right;\">\n",
       "      <th></th>\n",
       "      <th>enrollee_id</th>\n",
       "      <th>city</th>\n",
       "      <th>city_development_index</th>\n",
       "      <th>gender</th>\n",
       "      <th>relevent_experience</th>\n",
       "      <th>enrolled_university</th>\n",
       "      <th>education_level</th>\n",
       "      <th>major_discipline</th>\n",
       "      <th>experience</th>\n",
       "      <th>company_size</th>\n",
       "      <th>company_type</th>\n",
       "      <th>last_new_job</th>\n",
       "      <th>training_hours</th>\n",
       "    </tr>\n",
       "  </thead>\n",
       "  <tbody>\n",
       "    <tr>\n",
       "      <th>0</th>\n",
       "      <td>32403</td>\n",
       "      <td>city_41</td>\n",
       "      <td>0.827</td>\n",
       "      <td>Male</td>\n",
       "      <td>Has relevent experience</td>\n",
       "      <td>Full time course</td>\n",
       "      <td>Graduate</td>\n",
       "      <td>STEM</td>\n",
       "      <td>9</td>\n",
       "      <td>&lt;10</td>\n",
       "      <td>NaN</td>\n",
       "      <td>1</td>\n",
       "      <td>21</td>\n",
       "    </tr>\n",
       "    <tr>\n",
       "      <th>1</th>\n",
       "      <td>9858</td>\n",
       "      <td>city_103</td>\n",
       "      <td>0.920</td>\n",
       "      <td>Female</td>\n",
       "      <td>Has relevent experience</td>\n",
       "      <td>no_enrollment</td>\n",
       "      <td>Graduate</td>\n",
       "      <td>STEM</td>\n",
       "      <td>5</td>\n",
       "      <td>NaN</td>\n",
       "      <td>Pvt Ltd</td>\n",
       "      <td>1</td>\n",
       "      <td>98</td>\n",
       "    </tr>\n",
       "    <tr>\n",
       "      <th>2</th>\n",
       "      <td>31806</td>\n",
       "      <td>city_21</td>\n",
       "      <td>0.624</td>\n",
       "      <td>Male</td>\n",
       "      <td>No relevent experience</td>\n",
       "      <td>no_enrollment</td>\n",
       "      <td>High School</td>\n",
       "      <td>NaN</td>\n",
       "      <td>&lt;1</td>\n",
       "      <td>NaN</td>\n",
       "      <td>Pvt Ltd</td>\n",
       "      <td>never</td>\n",
       "      <td>15</td>\n",
       "    </tr>\n",
       "    <tr>\n",
       "      <th>3</th>\n",
       "      <td>27385</td>\n",
       "      <td>city_13</td>\n",
       "      <td>0.827</td>\n",
       "      <td>Male</td>\n",
       "      <td>Has relevent experience</td>\n",
       "      <td>no_enrollment</td>\n",
       "      <td>Masters</td>\n",
       "      <td>STEM</td>\n",
       "      <td>11</td>\n",
       "      <td>10/49</td>\n",
       "      <td>Pvt Ltd</td>\n",
       "      <td>1</td>\n",
       "      <td>39</td>\n",
       "    </tr>\n",
       "    <tr>\n",
       "      <th>4</th>\n",
       "      <td>27724</td>\n",
       "      <td>city_103</td>\n",
       "      <td>0.920</td>\n",
       "      <td>Male</td>\n",
       "      <td>Has relevent experience</td>\n",
       "      <td>no_enrollment</td>\n",
       "      <td>Graduate</td>\n",
       "      <td>STEM</td>\n",
       "      <td>&gt;20</td>\n",
       "      <td>10000+</td>\n",
       "      <td>Pvt Ltd</td>\n",
       "      <td>&gt;4</td>\n",
       "      <td>72</td>\n",
       "    </tr>\n",
       "  </tbody>\n",
       "</table>\n",
       "</div>"
      ],
      "text/plain": [
       "   enrollee_id      city  city_development_index  gender  \\\n",
       "0        32403   city_41                   0.827    Male   \n",
       "1         9858  city_103                   0.920  Female   \n",
       "2        31806   city_21                   0.624    Male   \n",
       "3        27385   city_13                   0.827    Male   \n",
       "4        27724  city_103                   0.920    Male   \n",
       "\n",
       "       relevent_experience enrolled_university education_level  \\\n",
       "0  Has relevent experience    Full time course        Graduate   \n",
       "1  Has relevent experience       no_enrollment        Graduate   \n",
       "2   No relevent experience       no_enrollment     High School   \n",
       "3  Has relevent experience       no_enrollment         Masters   \n",
       "4  Has relevent experience       no_enrollment        Graduate   \n",
       "\n",
       "  major_discipline experience company_size company_type last_new_job  \\\n",
       "0             STEM          9          <10          NaN            1   \n",
       "1             STEM          5          NaN      Pvt Ltd            1   \n",
       "2              NaN         <1          NaN      Pvt Ltd        never   \n",
       "3             STEM         11        10/49      Pvt Ltd            1   \n",
       "4             STEM        >20       10000+      Pvt Ltd           >4   \n",
       "\n",
       "   training_hours  \n",
       "0              21  \n",
       "1              98  \n",
       "2              15  \n",
       "3              39  \n",
       "4              72  "
      ]
     },
     "execution_count": 2,
     "metadata": {},
     "output_type": "execute_result"
    }
   ],
   "source": [
    "test.head()"
   ]
  },
  {
   "cell_type": "code",
   "execution_count": 3,
   "metadata": {
    "execution": {
     "iopub.execute_input": "2021-02-27T23:40:03.186703Z",
     "iopub.status.busy": "2021-02-27T23:40:03.185886Z",
     "iopub.status.idle": "2021-02-27T23:40:03.294890Z",
     "shell.execute_reply": "2021-02-27T23:40:03.294215Z"
    },
    "papermill": {
     "duration": 0.140238,
     "end_time": "2021-02-27T23:40:03.295026",
     "exception": false,
     "start_time": "2021-02-27T23:40:03.154788",
     "status": "completed"
    },
    "tags": []
   },
   "outputs": [
    {
     "data": {
      "text/html": [
       "<div>\n",
       "<style scoped>\n",
       "    .dataframe tbody tr th:only-of-type {\n",
       "        vertical-align: middle;\n",
       "    }\n",
       "\n",
       "    .dataframe tbody tr th {\n",
       "        vertical-align: top;\n",
       "    }\n",
       "\n",
       "    .dataframe thead th {\n",
       "        text-align: right;\n",
       "    }\n",
       "</style>\n",
       "<table border=\"1\" class=\"dataframe\">\n",
       "  <thead>\n",
       "    <tr style=\"text-align: right;\">\n",
       "      <th></th>\n",
       "      <th>city</th>\n",
       "      <th>gender</th>\n",
       "      <th>relevent_experience</th>\n",
       "      <th>enrolled_university</th>\n",
       "      <th>education_level</th>\n",
       "      <th>major_discipline</th>\n",
       "      <th>experience</th>\n",
       "      <th>company_size</th>\n",
       "      <th>company_type</th>\n",
       "      <th>last_new_job</th>\n",
       "      <th>target</th>\n",
       "    </tr>\n",
       "  </thead>\n",
       "  <tbody>\n",
       "    <tr>\n",
       "      <th>count</th>\n",
       "      <td>19158</td>\n",
       "      <td>14650</td>\n",
       "      <td>19158</td>\n",
       "      <td>18772</td>\n",
       "      <td>18698</td>\n",
       "      <td>16345</td>\n",
       "      <td>19093</td>\n",
       "      <td>13220</td>\n",
       "      <td>13018</td>\n",
       "      <td>18735</td>\n",
       "      <td>19158.0</td>\n",
       "    </tr>\n",
       "    <tr>\n",
       "      <th>unique</th>\n",
       "      <td>123</td>\n",
       "      <td>3</td>\n",
       "      <td>2</td>\n",
       "      <td>3</td>\n",
       "      <td>5</td>\n",
       "      <td>6</td>\n",
       "      <td>22</td>\n",
       "      <td>8</td>\n",
       "      <td>6</td>\n",
       "      <td>6</td>\n",
       "      <td>2.0</td>\n",
       "    </tr>\n",
       "    <tr>\n",
       "      <th>top</th>\n",
       "      <td>city_103</td>\n",
       "      <td>Male</td>\n",
       "      <td>Has relevent experience</td>\n",
       "      <td>no_enrollment</td>\n",
       "      <td>Graduate</td>\n",
       "      <td>STEM</td>\n",
       "      <td>&gt;20</td>\n",
       "      <td>50-99</td>\n",
       "      <td>Pvt Ltd</td>\n",
       "      <td>1</td>\n",
       "      <td>0.0</td>\n",
       "    </tr>\n",
       "    <tr>\n",
       "      <th>freq</th>\n",
       "      <td>4355</td>\n",
       "      <td>13221</td>\n",
       "      <td>13792</td>\n",
       "      <td>13817</td>\n",
       "      <td>11598</td>\n",
       "      <td>14492</td>\n",
       "      <td>3286</td>\n",
       "      <td>3083</td>\n",
       "      <td>9817</td>\n",
       "      <td>8040</td>\n",
       "      <td>14381.0</td>\n",
       "    </tr>\n",
       "  </tbody>\n",
       "</table>\n",
       "</div>"
      ],
      "text/plain": [
       "            city gender      relevent_experience enrolled_university  \\\n",
       "count      19158  14650                    19158               18772   \n",
       "unique       123      3                        2                   3   \n",
       "top     city_103   Male  Has relevent experience       no_enrollment   \n",
       "freq        4355  13221                    13792               13817   \n",
       "\n",
       "       education_level major_discipline experience company_size company_type  \\\n",
       "count            18698            16345      19093        13220        13018   \n",
       "unique               5                6         22            8            6   \n",
       "top           Graduate             STEM        >20        50-99      Pvt Ltd   \n",
       "freq             11598            14492       3286         3083         9817   \n",
       "\n",
       "       last_new_job   target  \n",
       "count         18735  19158.0  \n",
       "unique            6      2.0  \n",
       "top               1      0.0  \n",
       "freq           8040  14381.0  "
      ]
     },
     "execution_count": 3,
     "metadata": {},
     "output_type": "execute_result"
    }
   ],
   "source": [
    "train.loc[:,train.dtypes == \"object\"] = train.loc[:,train.dtypes == \"object\"].astype(\"category\")\n",
    "train['target'] = train['target'].astype(\"category\")\n",
    "\n",
    "train.select_dtypes(\"category\").describe()"
   ]
  },
  {
   "cell_type": "code",
   "execution_count": 4,
   "metadata": {
    "execution": {
     "iopub.execute_input": "2021-02-27T23:40:03.356905Z",
     "iopub.status.busy": "2021-02-27T23:40:03.356239Z",
     "iopub.status.idle": "2021-02-27T23:40:03.373409Z",
     "shell.execute_reply": "2021-02-27T23:40:03.372810Z"
    },
    "papermill": {
     "duration": 0.056862,
     "end_time": "2021-02-27T23:40:03.373564",
     "exception": false,
     "start_time": "2021-02-27T23:40:03.316702",
     "status": "completed"
    },
    "tags": []
   },
   "outputs": [
    {
     "data": {
      "text/html": [
       "<div>\n",
       "<style scoped>\n",
       "    .dataframe tbody tr th:only-of-type {\n",
       "        vertical-align: middle;\n",
       "    }\n",
       "\n",
       "    .dataframe tbody tr th {\n",
       "        vertical-align: top;\n",
       "    }\n",
       "\n",
       "    .dataframe thead th {\n",
       "        text-align: right;\n",
       "    }\n",
       "</style>\n",
       "<table border=\"1\" class=\"dataframe\">\n",
       "  <thead>\n",
       "    <tr style=\"text-align: right;\">\n",
       "      <th></th>\n",
       "      <th>city_development_index</th>\n",
       "      <th>training_hours</th>\n",
       "    </tr>\n",
       "  </thead>\n",
       "  <tbody>\n",
       "    <tr>\n",
       "      <th>count</th>\n",
       "      <td>19158.000000</td>\n",
       "      <td>19158.000000</td>\n",
       "    </tr>\n",
       "    <tr>\n",
       "      <th>mean</th>\n",
       "      <td>0.828848</td>\n",
       "      <td>65.366896</td>\n",
       "    </tr>\n",
       "    <tr>\n",
       "      <th>std</th>\n",
       "      <td>0.123362</td>\n",
       "      <td>60.058462</td>\n",
       "    </tr>\n",
       "    <tr>\n",
       "      <th>min</th>\n",
       "      <td>0.448000</td>\n",
       "      <td>1.000000</td>\n",
       "    </tr>\n",
       "    <tr>\n",
       "      <th>25%</th>\n",
       "      <td>0.740000</td>\n",
       "      <td>23.000000</td>\n",
       "    </tr>\n",
       "    <tr>\n",
       "      <th>50%</th>\n",
       "      <td>0.903000</td>\n",
       "      <td>47.000000</td>\n",
       "    </tr>\n",
       "    <tr>\n",
       "      <th>75%</th>\n",
       "      <td>0.920000</td>\n",
       "      <td>88.000000</td>\n",
       "    </tr>\n",
       "    <tr>\n",
       "      <th>max</th>\n",
       "      <td>0.949000</td>\n",
       "      <td>336.000000</td>\n",
       "    </tr>\n",
       "  </tbody>\n",
       "</table>\n",
       "</div>"
      ],
      "text/plain": [
       "       city_development_index  training_hours\n",
       "count            19158.000000    19158.000000\n",
       "mean                 0.828848       65.366896\n",
       "std                  0.123362       60.058462\n",
       "min                  0.448000        1.000000\n",
       "25%                  0.740000       23.000000\n",
       "50%                  0.903000       47.000000\n",
       "75%                  0.920000       88.000000\n",
       "max                  0.949000      336.000000"
      ]
     },
     "execution_count": 4,
     "metadata": {},
     "output_type": "execute_result"
    }
   ],
   "source": [
    "train.select_dtypes({\"int64\",\"float64\"}).drop(columns = \"enrollee_id\").describe()"
   ]
  },
  {
   "cell_type": "code",
   "execution_count": 5,
   "metadata": {
    "execution": {
     "iopub.execute_input": "2021-02-27T23:40:03.426884Z",
     "iopub.status.busy": "2021-02-27T23:40:03.425899Z",
     "iopub.status.idle": "2021-02-27T23:40:03.432583Z",
     "shell.execute_reply": "2021-02-27T23:40:03.431861Z"
    },
    "papermill": {
     "duration": 0.035746,
     "end_time": "2021-02-27T23:40:03.432726",
     "exception": false,
     "start_time": "2021-02-27T23:40:03.396980",
     "status": "completed"
    },
    "tags": []
   },
   "outputs": [
    {
     "name": "stdout",
     "output_type": "stream",
     "text": [
      "Percent of training set with target = 0: 0.751\n",
      "Percent of training set with target = 1: 0.249\n"
     ]
    }
   ],
   "source": [
    "target_counts = pd.DataFrame({'target': train['target']})\n",
    "print(\"Percent of training set with target = 0: %.3f\" % (len(target_counts[target_counts['target'] == 0]) / len(target_counts)) )\n",
    "print(\"Percent of training set with target = 1: %.3f\" % (len(target_counts[target_counts['target'] == 1]) / len(target_counts)) )"
   ]
  },
  {
   "cell_type": "code",
   "execution_count": 6,
   "metadata": {
    "execution": {
     "iopub.execute_input": "2021-02-27T23:40:03.488792Z",
     "iopub.status.busy": "2021-02-27T23:40:03.484229Z",
     "iopub.status.idle": "2021-02-27T23:40:03.496303Z",
     "shell.execute_reply": "2021-02-27T23:40:03.496834Z"
    },
    "papermill": {
     "duration": 0.041333,
     "end_time": "2021-02-27T23:40:03.497006",
     "exception": false,
     "start_time": "2021-02-27T23:40:03.455673",
     "status": "completed"
    },
    "tags": []
   },
   "outputs": [
    {
     "data": {
      "text/html": [
       "<div>\n",
       "<style scoped>\n",
       "    .dataframe tbody tr th:only-of-type {\n",
       "        vertical-align: middle;\n",
       "    }\n",
       "\n",
       "    .dataframe tbody tr th {\n",
       "        vertical-align: top;\n",
       "    }\n",
       "\n",
       "    .dataframe thead th {\n",
       "        text-align: right;\n",
       "    }\n",
       "</style>\n",
       "<table border=\"1\" class=\"dataframe\">\n",
       "  <thead>\n",
       "    <tr style=\"text-align: right;\">\n",
       "      <th></th>\n",
       "      <th>dtype</th>\n",
       "      <th>null_count</th>\n",
       "    </tr>\n",
       "  </thead>\n",
       "  <tbody>\n",
       "    <tr>\n",
       "      <th>enrollee_id</th>\n",
       "      <td>int64</td>\n",
       "      <td>0</td>\n",
       "    </tr>\n",
       "    <tr>\n",
       "      <th>city</th>\n",
       "      <td>category</td>\n",
       "      <td>0</td>\n",
       "    </tr>\n",
       "    <tr>\n",
       "      <th>city_development_index</th>\n",
       "      <td>float64</td>\n",
       "      <td>0</td>\n",
       "    </tr>\n",
       "    <tr>\n",
       "      <th>gender</th>\n",
       "      <td>category</td>\n",
       "      <td>4508</td>\n",
       "    </tr>\n",
       "    <tr>\n",
       "      <th>relevent_experience</th>\n",
       "      <td>category</td>\n",
       "      <td>0</td>\n",
       "    </tr>\n",
       "    <tr>\n",
       "      <th>enrolled_university</th>\n",
       "      <td>category</td>\n",
       "      <td>386</td>\n",
       "    </tr>\n",
       "    <tr>\n",
       "      <th>education_level</th>\n",
       "      <td>category</td>\n",
       "      <td>460</td>\n",
       "    </tr>\n",
       "    <tr>\n",
       "      <th>major_discipline</th>\n",
       "      <td>category</td>\n",
       "      <td>2813</td>\n",
       "    </tr>\n",
       "    <tr>\n",
       "      <th>experience</th>\n",
       "      <td>category</td>\n",
       "      <td>65</td>\n",
       "    </tr>\n",
       "    <tr>\n",
       "      <th>company_size</th>\n",
       "      <td>category</td>\n",
       "      <td>5938</td>\n",
       "    </tr>\n",
       "    <tr>\n",
       "      <th>company_type</th>\n",
       "      <td>category</td>\n",
       "      <td>6140</td>\n",
       "    </tr>\n",
       "    <tr>\n",
       "      <th>last_new_job</th>\n",
       "      <td>category</td>\n",
       "      <td>423</td>\n",
       "    </tr>\n",
       "    <tr>\n",
       "      <th>training_hours</th>\n",
       "      <td>int64</td>\n",
       "      <td>0</td>\n",
       "    </tr>\n",
       "    <tr>\n",
       "      <th>target</th>\n",
       "      <td>category</td>\n",
       "      <td>0</td>\n",
       "    </tr>\n",
       "  </tbody>\n",
       "</table>\n",
       "</div>"
      ],
      "text/plain": [
       "                           dtype  null_count\n",
       "enrollee_id                int64           0\n",
       "city                    category           0\n",
       "city_development_index   float64           0\n",
       "gender                  category        4508\n",
       "relevent_experience     category           0\n",
       "enrolled_university     category         386\n",
       "education_level         category         460\n",
       "major_discipline        category        2813\n",
       "experience              category          65\n",
       "company_size            category        5938\n",
       "company_type            category        6140\n",
       "last_new_job            category         423\n",
       "training_hours             int64           0\n",
       "target                  category           0"
      ]
     },
     "execution_count": 6,
     "metadata": {},
     "output_type": "execute_result"
    }
   ],
   "source": [
    "pd.DataFrame({'dtype': train.dtypes,\n",
    "              'null_count': train.isna().sum()})"
   ]
  },
  {
   "cell_type": "markdown",
   "metadata": {
    "papermill": {
     "duration": 0.023157,
     "end_time": "2021-02-27T23:40:03.543267",
     "exception": false,
     "start_time": "2021-02-27T23:40:03.520110",
     "status": "completed"
    },
    "tags": []
   },
   "source": [
    "As the documentation mentioned, the attributes of the data may pose some issues while modeling, such as:\n",
    "\n",
    "1. Imbalanced data set\n",
    "2. High cardinality (uniqueness) in some features\n",
    "3. Missing data\n",
    "\n",
    "Let's explore our training set further and do some basic summary/visualization to explore the data."
   ]
  },
  {
   "cell_type": "markdown",
   "metadata": {
    "papermill": {
     "duration": 0.022975,
     "end_time": "2021-02-27T23:40:03.590540",
     "exception": false,
     "start_time": "2021-02-27T23:40:03.567565",
     "status": "completed"
    },
    "tags": []
   },
   "source": [
    "# Exploratory Data Analysis\n",
    "\n",
    "Let's begin by looking at the distribution of our categorical variables."
   ]
  },
  {
   "cell_type": "code",
   "execution_count": 7,
   "metadata": {
    "execution": {
     "iopub.execute_input": "2021-02-27T23:40:03.650981Z",
     "iopub.status.busy": "2021-02-27T23:40:03.650302Z",
     "iopub.status.idle": "2021-02-27T23:40:06.936257Z",
     "shell.execute_reply": "2021-02-27T23:40:06.936776Z"
    },
    "papermill": {
     "duration": 3.32287,
     "end_time": "2021-02-27T23:40:06.936956",
     "exception": false,
     "start_time": "2021-02-27T23:40:03.614086",
     "status": "completed"
    },
    "tags": []
   },
   "outputs": [
    {
     "data": {
      "image/png": "[encoded data removed]",
      "text/plain": [
       "<Figure size 864x360 with 1 Axes>"
      ]
     },
     "metadata": {
      "needs_background": "light"
     },
     "output_type": "display_data"
    },
    {
     "data": {
      "image/png": "[encoded data removed]",
      "text/plain": [
       "<Figure size 864x360 with 1 Axes>"
      ]
     },
     "metadata": {
      "needs_background": "light"
     },
     "output_type": "display_data"
    },
    {
     "data": {
      "image/png": "[encoded data removed]",
      "text/plain": [
       "<Figure size 864x360 with 1 Axes>"
      ]
     },
     "metadata": {
      "needs_background": "light"
     },
     "output_type": "display_data"
    },
    {
     "data": {
      "image/png": "[encoded data removed]",
      "text/plain": [
       "<Figure size 864x360 with 1 Axes>"
      ]
     },
     "metadata": {
      "needs_background": "light"
     },
     "output_type": "display_data"
    },
    {
     "data": {
      "image/png": "[encoded data removed]",
      "text/plain": [
       "<Figure size 864x360 with 1 Axes>"
      ]
     },
     "metadata": {
      "needs_background": "light"
     },
     "output_type": "display_data"
    },
    {
     "data": {
      "image/png": "[encoded data removed]",
      "text/plain": [
       "<Figure size 864x360 with 1 Axes>"
      ]
     },
     "metadata": {
      "needs_background": "light"
     },
     "output_type": "display_data"
    },
    {
     "data": {
      "image/png": "[encoded data removed]",
      "text/plain": [
       "<Figure size 864x360 with 1 Axes>"
      ]
     },
     "metadata": {
      "needs_background": "light"
     },
     "output_type": "display_data"
    },
    {
     "data": {
      "image/png": "[encoded data removed]",
      "text/plain": [
       "<Figure size 864x360 with 1 Axes>"
      ]
     },
     "metadata": {
      "needs_background": "light"
     },
     "output_type": "display_data"
    },
    {
     "data": {
      "image/png": "[encoded data removed]",
      "text/plain": [
       "<Figure size 864x360 with 1 Axes>"
      ]
     },
     "metadata": {
      "needs_background": "light"
     },
     "output_type": "display_data"
    },
    {
     "data": {
      "image/png": "[encoded data removed]",
      "text/plain": [
       "<Figure size 864x360 with 1 Axes>"
      ]
     },
     "metadata": {
      "needs_background": "light"
     },
     "output_type": "display_data"
    }
   ],
   "source": [
    "import matplotlib.pyplot as plt\n",
    "\n",
    "cat_list = train.select_dtypes(\"category\").columns.drop('target').tolist()\n",
    "for i in cat_list:\n",
    "    val_counts = pd.DataFrame(train[i].value_counts())\n",
    "    plt.figure(figsize = (12, 5))\n",
    "    plt.title(i, fontsize = 20)\n",
    "    if i == 'city':\n",
    "        plt.bar(range(len(val_counts)), val_counts[i], color=\"r\", align=\"center\")\n",
    "        plt.xticks(range(len(val_counts)), fontsize = 8)\n",
    "    else:\n",
    "        plt.bar(val_counts.index, val_counts[i], color=\"r\", align=\"center\")\n",
    "        plt.xticks(val_counts.index, fontsize = 12)\n",
    "    plt.show()"
   ]
  },
  {
   "cell_type": "markdown",
   "metadata": {
    "papermill": {
     "duration": 0.031805,
     "end_time": "2021-02-27T23:40:07.000167",
     "exception": false,
     "start_time": "2021-02-27T23:40:06.968362",
     "status": "completed"
    },
    "tags": []
   },
   "source": [
    "Let's also take a look at the relationship between each categorical variable and the outcome. The y-axis indicates a count. In the plots below, <span style=\"color:blue\"> **blue** </span> indicates a person is not seeking a new job, whereas <span style=\"color:red\">**red**</span> indicates that they are."
   ]
  },
  {
   "cell_type": "code",
   "execution_count": 8,
   "metadata": {
    "execution": {
     "iopub.execute_input": "2021-02-27T23:40:07.075674Z",
     "iopub.status.busy": "2021-02-27T23:40:07.074952Z",
     "iopub.status.idle": "2021-02-27T23:40:10.284320Z",
     "shell.execute_reply": "2021-02-27T23:40:10.283707Z"
    },
    "papermill": {
     "duration": 3.25222,
     "end_time": "2021-02-27T23:40:10.284461",
     "exception": false,
     "start_time": "2021-02-27T23:40:07.032241",
     "status": "completed"
    },
    "tags": []
   },
   "outputs": [
    {
     "data": {
      "image/png": "[encoded data removed]",
      "text/plain": [
       "<Figure size 864x360 with 1 Axes>"
      ]
     },
     "metadata": {
      "needs_background": "light"
     },
     "output_type": "display_data"
    },
    {
     "data": {
      "image/png": "[encoded data removed]",
      "text/plain": [
       "<Figure size 864x360 with 1 Axes>"
      ]
     },
     "metadata": {
      "needs_background": "light"
     },
     "output_type": "display_data"
    },
    {
     "data": {
      "image/png": "[encoded data removed]",
      "text/plain": [
       "<Figure size 864x360 with 1 Axes>"
      ]
     },
     "metadata": {
      "needs_background": "light"
     },
     "output_type": "display_data"
    },
    {
     "data": {
      "image/png": "[encoded data removed]",
      "text/plain": [
       "<Figure size 864x360 with 1 Axes>"
      ]
     },
     "metadata": {
      "needs_background": "light"
     },
     "output_type": "display_data"
    },
    {
     "data": {
      "image/png": "[encoded data removed]",
      "text/plain": [
       "<Figure size 864x360 with 1 Axes>"
      ]
     },
     "metadata": {
      "needs_background": "light"
     },
     "output_type": "display_data"
    },
    {
     "data": {
      "image/png": "[encoded data removed]",
      "text/plain": [
       "<Figure size 864x360 with 1 Axes>"
      ]
     },
     "metadata": {
      "needs_background": "light"
     },
     "output_type": "display_data"
    },
    {
     "data": {
      "image/png": "[encoded data removed]",
      "text/plain": [
       "<Figure size 864x360 with 1 Axes>"
      ]
     },
     "metadata": {
      "needs_background": "light"
     },
     "output_type": "display_data"
    },
    {
     "data": {
      "image/png": "[encoded data removed]",
      "text/plain": [
       "<Figure size 864x360 with 1 Axes>"
      ]
     },
     "metadata": {
      "needs_background": "light"
     },
     "output_type": "display_data"
    },
    {
     "data": {
      "image/png": "[encoded data removed]",
      "text/plain": [
       "<Figure size 864x360 with 1 Axes>"
      ]
     },
     "metadata": {
      "needs_background": "light"
     },
     "output_type": "display_data"
    },
    {
     "data": {
      "image/png": "[encoded data removed]",
      "text/plain": [
       "<Figure size 864x360 with 1 Axes>"
      ]
     },
     "metadata": {
      "needs_background": "light"
     },
     "output_type": "display_data"
    }
   ],
   "source": [
    "for i in cat_list:\n",
    "    unique_vals = pd.Series(train[i].unique())\n",
    "    plot_df = pd.DataFrame()\n",
    "    plt.figure(figsize = (12, 5))\n",
    "    plt.title(i, fontsize = 20)\n",
    "    for j in unique_vals:\n",
    "        width = .35\n",
    "        unique_df = pd.DataFrame(train[train[i] == j])\n",
    "        t0 = len(unique_df[unique_df['target'] == 0])\n",
    "        t1 = len(unique_df[unique_df['target'] == 1])\n",
    "        new = pd.DataFrame({'j' : j, 't0' : t0, 't1' : t1}, index = [0])\n",
    "        plot_df = plot_df.append(new)\n",
    "    plot_df = plot_df.reset_index(drop = True)\n",
    "    plot_df = plot_df.dropna(axis = 0)\n",
    "    if i == 'city':\n",
    "        plt.bar(range(len(unique_vals)), plot_df['t0'], color=\"b\", align=\"center\")\n",
    "        plt.bar(range(len(unique_vals)), plot_df['t1'], color=\"r\", align=\"center\")\n",
    "    else:\n",
    "        plt.bar(plot_df['j'], plot_df['t0'], color=\"b\", align=\"center\")\n",
    "        plt.bar(plot_df['j'], plot_df['t1'], color=\"r\", align=\"center\")\n",
    "    plt.show()"
   ]
  },
  {
   "cell_type": "markdown",
   "metadata": {
    "papermill": {
     "duration": 0.038472,
     "end_time": "2021-02-27T23:40:10.362113",
     "exception": false,
     "start_time": "2021-02-27T23:40:10.323641",
     "status": "completed"
    },
    "tags": []
   },
   "source": [
    "It seems that within each categorical variable, the levels of the variable differ in terms of the proportion of new job seekers versus those who want to remain at their current job. Let's use a chi-squared test to further examine the relationship between each feature and the target variable. The test examines how different the observed counts than what is expected, under the assumption that they are independent."
   ]
  },
  {
   "cell_type": "code",
   "execution_count": 9,
   "metadata": {
    "execution": {
     "iopub.execute_input": "2021-02-27T23:40:10.444973Z",
     "iopub.status.busy": "2021-02-27T23:40:10.444302Z",
     "iopub.status.idle": "2021-02-27T23:40:11.459958Z",
     "shell.execute_reply": "2021-02-27T23:40:11.459370Z"
    },
    "papermill": {
     "duration": 1.059404,
     "end_time": "2021-02-27T23:40:11.460099",
     "exception": false,
     "start_time": "2021-02-27T23:40:10.400695",
     "status": "completed"
    },
    "tags": []
   },
   "outputs": [
    {
     "name": "stdout",
     "output_type": "stream",
     "text": [
      "Variable [ city ] has a chi2 statistic of [2998.78] with a p-value of [0.000]\n",
      "Variable [ gender ] has a chi2 statistic of [9.04] with a p-value of [0.011]\n",
      "Variable [ relevent_experience ] has a chi2 statistic of [315.34] with a p-value of [0.000]\n",
      "Variable [ enrolled_university ] has a chi2 statistic of [455.17] with a p-value of [0.000]\n",
      "Variable [ education_level ] has a chi2 statistic of [165.66] with a p-value of [0.000]\n",
      "Variable [ major_discipline ] has a chi2 statistic of [12.21] with a p-value of [0.032]\n",
      "Variable [ experience ] has a chi2 statistic of [701.57] with a p-value of [0.000]\n",
      "Variable [ company_size ] has a chi2 statistic of [45.53] with a p-value of [0.000]\n",
      "Variable [ company_type ] has a chi2 statistic of [35.04] with a p-value of [0.000]\n",
      "Variable [ last_new_job ] has a chi2 statistic of [132.50] with a p-value of [0.000]\n"
     ]
    }
   ],
   "source": [
    "from scipy.stats import chi2_contingency\n",
    "\n",
    "for i in cat_list:\n",
    "    table = pd.crosstab(train[i], train['target'])\n",
    "    chi2_stat, p, dof, expected = chi2_contingency(table)\n",
    "    print(\"Variable [\",i,\"] has a chi2 statistic of [%.2f] with a p-value of [%.3f]\" % (chi2_stat, p))"
   ]
  },
  {
   "cell_type": "markdown",
   "metadata": {
    "papermill": {
     "duration": 0.039159,
     "end_time": "2021-02-27T23:40:11.538222",
     "exception": false,
     "start_time": "2021-02-27T23:40:11.499063",
     "status": "completed"
    },
    "tags": []
   },
   "source": [
    "Many of the p-values are small (< .001), which is expected from such a large dataset. Looking at the magnitude of the chi-squared values, we can see that city and experience are strongly related to whether or not a data scientist wants to change jobs. A person's relevent experience and enrollment status also seem to be associated with seeking a new job. However, city is a high cardinality feature. We may do better by dropping this feature altogether and relying on the city_development_index to give us information about someone's city.  \n",
    "\n",
    "Speaking of which, let's also examine the continuous variables. We'll plot all values, colored the same way (<span style=\"color:blue\"> **blue** </span> = not seeking a new job, <span style=\"color:red\">**red**</span> = seeking a new job. We'll also compare the mean values per target class, both visually and with a t-test."
   ]
  },
  {
   "cell_type": "code",
   "execution_count": 10,
   "metadata": {
    "execution": {
     "iopub.execute_input": "2021-02-27T23:40:11.626189Z",
     "iopub.status.busy": "2021-02-27T23:40:11.625559Z",
     "iopub.status.idle": "2021-02-27T23:40:11.999955Z",
     "shell.execute_reply": "2021-02-27T23:40:12.000554Z"
    },
    "papermill": {
     "duration": 0.423516,
     "end_time": "2021-02-27T23:40:12.000772",
     "exception": false,
     "start_time": "2021-02-27T23:40:11.577256",
     "status": "completed"
    },
    "tags": []
   },
   "outputs": [
    {
     "data": {
      "image/png": "[encoded data removed]",
      "text/plain": [
       "<Figure size 864x360 with 1 Axes>"
      ]
     },
     "metadata": {
      "needs_background": "light"
     },
     "output_type": "display_data"
    },
    {
     "data": {
      "image/png": "[encoded data removed]",
      "text/plain": [
       "<Figure size 864x360 with 1 Axes>"
      ]
     },
     "metadata": {
      "needs_background": "light"
     },
     "output_type": "display_data"
    }
   ],
   "source": [
    "from numpy import mean\n",
    "\n",
    "plt.figure(figsize = (12,5))\n",
    "plt.title(\"City Development Index\")\n",
    "x1 = train[train['target'] == 0].loc[:,'city_development_index']\n",
    "x2 = train[train['target'] == 1].loc[:,'city_development_index']\n",
    "y1 = train[train['target'] == 0].loc[:,'target']\n",
    "y2 = train[train['target'] == 1].loc[:,'target']\n",
    "plt.scatter(x1, y1, color = 'b')\n",
    "plt.scatter(x2, y2, color = 'r')\n",
    "plt.show()\n",
    "\n",
    "plt.figure(figsize = (12,5))\n",
    "plt.title(\"Mean CDI by Target\")\n",
    "cdi_df = train.loc[:,['target','city_development_index']].groupby('target').agg({'city_development_index': 'mean'})\n",
    "plt.bar(cdi_df.index, cdi_df['city_development_index'], color = ['b','r'])\n",
    "plt.ylim(.7,.9)\n",
    "plt.show()"
   ]
  },
  {
   "cell_type": "code",
   "execution_count": 11,
   "metadata": {
    "execution": {
     "iopub.execute_input": "2021-02-27T23:40:12.086890Z",
     "iopub.status.busy": "2021-02-27T23:40:12.086166Z",
     "iopub.status.idle": "2021-02-27T23:40:12.470248Z",
     "shell.execute_reply": "2021-02-27T23:40:12.470755Z"
    },
    "papermill": {
     "duration": 0.429155,
     "end_time": "2021-02-27T23:40:12.470924",
     "exception": false,
     "start_time": "2021-02-27T23:40:12.041769",
     "status": "completed"
    },
    "tags": []
   },
   "outputs": [
    {
     "data": {
      "image/png": "[encoded data removed]",
      "text/plain": [
       "<Figure size 864x360 with 1 Axes>"
      ]
     },
     "metadata": {
      "needs_background": "light"
     },
     "output_type": "display_data"
    },
    {
     "data": {
      "image/png": "[encoded data removed]",
      "text/plain": [
       "<Figure size 864x360 with 1 Axes>"
      ]
     },
     "metadata": {
      "needs_background": "light"
     },
     "output_type": "display_data"
    }
   ],
   "source": [
    "plt.figure(figsize = (12,5))\n",
    "plt.title(\"Training Hours\")\n",
    "x1 = train[train['target'] == 0].loc[:,'training_hours']\n",
    "x2 = train[train['target'] == 1].loc[:,'training_hours']\n",
    "y1 = train[train['target'] == 0].loc[:,'target']\n",
    "y2 = train[train['target'] == 1].loc[:,'target']\n",
    "plt.scatter(x1, y1, color = 'b')\n",
    "plt.scatter(x2, y2, color = 'r')\n",
    "plt.show()\n",
    "\n",
    "plt.figure(figsize = (12,5))\n",
    "plt.title(\"Mean Training Hours by Target\")\n",
    "th_df = train.loc[:,['target','training_hours']].groupby('target').agg({'training_hours': 'mean'})\n",
    "plt.bar(th_df.index, th_df['training_hours'], color = ['b','r'])\n",
    "plt.ylim(60,68)\n",
    "plt.show()"
   ]
  },
  {
   "cell_type": "code",
   "execution_count": 12,
   "metadata": {
    "execution": {
     "iopub.execute_input": "2021-02-27T23:40:12.559355Z",
     "iopub.status.busy": "2021-02-27T23:40:12.558697Z",
     "iopub.status.idle": "2021-02-27T23:40:12.582862Z",
     "shell.execute_reply": "2021-02-27T23:40:12.582088Z"
    },
    "papermill": {
     "duration": 0.069925,
     "end_time": "2021-02-27T23:40:12.583054",
     "exception": false,
     "start_time": "2021-02-27T23:40:12.513129",
     "status": "completed"
    },
    "tags": []
   },
   "outputs": [
    {
     "name": "stdout",
     "output_type": "stream",
     "text": [
      "t-test of CDI between target categories = 50.316 with p-value = 0.000\n",
      "t-test of training hours between target categories = 2.987 with p-value = 0.003\n"
     ]
    }
   ],
   "source": [
    "from scipy.stats import ttest_ind\n",
    "\n",
    "cdi0 = train[train['target'] == 0].loc[:,'city_development_index']\n",
    "cdi1 = train[train['target'] == 1].loc[:,'city_development_index']\n",
    "cdi_ttest = ttest_ind(cdi0, cdi1)\n",
    "\n",
    "\n",
    "th0 = train[train['target'] == 0].loc[:,'training_hours']\n",
    "th1 = train[train['target'] == 1].loc[:,'training_hours']\n",
    "th_ttest = ttest_ind(th0, th1)\n",
    "\n",
    "\n",
    "print(\"t-test of CDI between target categories = %.3f with p-value = %.3f\" % (cdi_ttest.statistic, cdi_ttest.pvalue))\n",
    "print(\"t-test of training hours between target categories = %.3f with p-value = %.3f\" % (th_ttest.statistic, th_ttest.pvalue))"
   ]
  },
  {
   "cell_type": "markdown",
   "metadata": {
    "papermill": {
     "duration": 0.042352,
     "end_time": "2021-02-27T23:40:12.669097",
     "exception": false,
     "start_time": "2021-02-27T23:40:12.626745",
     "status": "completed"
    },
    "tags": []
   },
   "source": [
    "It looks like CDI may be more related to the target variable than training hours is. Now that we've gotten to know our data a little bit, let's move on to preprocessing and model fitting."
   ]
  },
  {
   "cell_type": "markdown",
   "metadata": {
    "papermill": {
     "duration": 0.042228,
     "end_time": "2021-02-27T23:40:12.754091",
     "exception": false,
     "start_time": "2021-02-27T23:40:12.711863",
     "status": "completed"
    },
    "tags": []
   },
   "source": [
    "# Data Preprocessing\n",
    "\n",
    "We'll begin by preprocessing the data. We have a lot of missing values, which we'll deal with using a simple imputation procedure. It will also be helpful to convert categorical variables to sets of binary variables. Since there are so many cities, and we have a relevant continuous variable measuring a relevant aspect of one's city (city_development_index), we'll drop the feature for now. Training hours and city development index are also both on different scales. To rectify this, we'll rescale training hours to be between 0 and 1."
   ]
  },
  {
   "cell_type": "code",
   "execution_count": 13,
   "metadata": {
    "execution": {
     "iopub.execute_input": "2021-02-27T23:40:12.847391Z",
     "iopub.status.busy": "2021-02-27T23:40:12.846702Z",
     "iopub.status.idle": "2021-02-27T23:40:13.954842Z",
     "shell.execute_reply": "2021-02-27T23:40:13.953830Z"
    },
    "papermill": {
     "duration": 1.158017,
     "end_time": "2021-02-27T23:40:13.955008",
     "exception": false,
     "start_time": "2021-02-27T23:40:12.796991",
     "status": "completed"
    },
    "tags": []
   },
   "outputs": [
    {
     "data": {
      "text/html": [
       "<div>\n",
       "<style scoped>\n",
       "    .dataframe tbody tr th:only-of-type {\n",
       "        vertical-align: middle;\n",
       "    }\n",
       "\n",
       "    .dataframe tbody tr th {\n",
       "        vertical-align: top;\n",
       "    }\n",
       "\n",
       "    .dataframe thead th {\n",
       "        text-align: right;\n",
       "    }\n",
       "</style>\n",
       "<table border=\"1\" class=\"dataframe\">\n",
       "  <thead>\n",
       "    <tr style=\"text-align: right;\">\n",
       "      <th></th>\n",
       "      <th>city_development_index</th>\n",
       "      <th>training_hours</th>\n",
       "      <th>gender_Female</th>\n",
       "      <th>gender_Male</th>\n",
       "      <th>gender_Other</th>\n",
       "      <th>relevent_experience_Has relevent experience</th>\n",
       "      <th>relevent_experience_No relevent experience</th>\n",
       "      <th>enrolled_university_Full time course</th>\n",
       "      <th>enrolled_university_Part time course</th>\n",
       "      <th>enrolled_university_no_enrollment</th>\n",
       "      <th>...</th>\n",
       "      <th>company_type_NGO</th>\n",
       "      <th>company_type_Other</th>\n",
       "      <th>company_type_Public Sector</th>\n",
       "      <th>company_type_Pvt Ltd</th>\n",
       "      <th>last_new_job_1</th>\n",
       "      <th>last_new_job_2</th>\n",
       "      <th>last_new_job_3</th>\n",
       "      <th>last_new_job_4</th>\n",
       "      <th>last_new_job_&gt;4</th>\n",
       "      <th>last_new_job_never</th>\n",
       "    </tr>\n",
       "  </thead>\n",
       "  <tbody>\n",
       "    <tr>\n",
       "      <th>0</th>\n",
       "      <td>0.920</td>\n",
       "      <td>0.104478</td>\n",
       "      <td>0</td>\n",
       "      <td>1</td>\n",
       "      <td>0</td>\n",
       "      <td>1</td>\n",
       "      <td>0</td>\n",
       "      <td>0</td>\n",
       "      <td>0</td>\n",
       "      <td>1</td>\n",
       "      <td>...</td>\n",
       "      <td>0</td>\n",
       "      <td>0</td>\n",
       "      <td>0</td>\n",
       "      <td>1</td>\n",
       "      <td>1</td>\n",
       "      <td>0</td>\n",
       "      <td>0</td>\n",
       "      <td>0</td>\n",
       "      <td>0</td>\n",
       "      <td>0</td>\n",
       "    </tr>\n",
       "    <tr>\n",
       "      <th>1</th>\n",
       "      <td>0.776</td>\n",
       "      <td>0.137313</td>\n",
       "      <td>0</td>\n",
       "      <td>1</td>\n",
       "      <td>0</td>\n",
       "      <td>0</td>\n",
       "      <td>1</td>\n",
       "      <td>0</td>\n",
       "      <td>0</td>\n",
       "      <td>1</td>\n",
       "      <td>...</td>\n",
       "      <td>0</td>\n",
       "      <td>0</td>\n",
       "      <td>0</td>\n",
       "      <td>1</td>\n",
       "      <td>0</td>\n",
       "      <td>0</td>\n",
       "      <td>0</td>\n",
       "      <td>0</td>\n",
       "      <td>1</td>\n",
       "      <td>0</td>\n",
       "    </tr>\n",
       "    <tr>\n",
       "      <th>2</th>\n",
       "      <td>0.624</td>\n",
       "      <td>0.244776</td>\n",
       "      <td>0</td>\n",
       "      <td>1</td>\n",
       "      <td>0</td>\n",
       "      <td>0</td>\n",
       "      <td>1</td>\n",
       "      <td>1</td>\n",
       "      <td>0</td>\n",
       "      <td>0</td>\n",
       "      <td>...</td>\n",
       "      <td>0</td>\n",
       "      <td>0</td>\n",
       "      <td>0</td>\n",
       "      <td>1</td>\n",
       "      <td>0</td>\n",
       "      <td>0</td>\n",
       "      <td>0</td>\n",
       "      <td>0</td>\n",
       "      <td>0</td>\n",
       "      <td>1</td>\n",
       "    </tr>\n",
       "    <tr>\n",
       "      <th>3</th>\n",
       "      <td>0.789</td>\n",
       "      <td>0.152239</td>\n",
       "      <td>0</td>\n",
       "      <td>1</td>\n",
       "      <td>0</td>\n",
       "      <td>0</td>\n",
       "      <td>1</td>\n",
       "      <td>0</td>\n",
       "      <td>0</td>\n",
       "      <td>1</td>\n",
       "      <td>...</td>\n",
       "      <td>0</td>\n",
       "      <td>0</td>\n",
       "      <td>0</td>\n",
       "      <td>1</td>\n",
       "      <td>0</td>\n",
       "      <td>0</td>\n",
       "      <td>0</td>\n",
       "      <td>0</td>\n",
       "      <td>0</td>\n",
       "      <td>1</td>\n",
       "    </tr>\n",
       "    <tr>\n",
       "      <th>4</th>\n",
       "      <td>0.767</td>\n",
       "      <td>0.020896</td>\n",
       "      <td>0</td>\n",
       "      <td>1</td>\n",
       "      <td>0</td>\n",
       "      <td>1</td>\n",
       "      <td>0</td>\n",
       "      <td>0</td>\n",
       "      <td>0</td>\n",
       "      <td>1</td>\n",
       "      <td>...</td>\n",
       "      <td>0</td>\n",
       "      <td>0</td>\n",
       "      <td>0</td>\n",
       "      <td>0</td>\n",
       "      <td>0</td>\n",
       "      <td>0</td>\n",
       "      <td>0</td>\n",
       "      <td>1</td>\n",
       "      <td>0</td>\n",
       "      <td>0</td>\n",
       "    </tr>\n",
       "    <tr>\n",
       "      <th>...</th>\n",
       "      <td>...</td>\n",
       "      <td>...</td>\n",
       "      <td>...</td>\n",
       "      <td>...</td>\n",
       "      <td>...</td>\n",
       "      <td>...</td>\n",
       "      <td>...</td>\n",
       "      <td>...</td>\n",
       "      <td>...</td>\n",
       "      <td>...</td>\n",
       "      <td>...</td>\n",
       "      <td>...</td>\n",
       "      <td>...</td>\n",
       "      <td>...</td>\n",
       "      <td>...</td>\n",
       "      <td>...</td>\n",
       "      <td>...</td>\n",
       "      <td>...</td>\n",
       "      <td>...</td>\n",
       "      <td>...</td>\n",
       "      <td>...</td>\n",
       "    </tr>\n",
       "    <tr>\n",
       "      <th>19153</th>\n",
       "      <td>0.878</td>\n",
       "      <td>0.122388</td>\n",
       "      <td>0</td>\n",
       "      <td>1</td>\n",
       "      <td>0</td>\n",
       "      <td>0</td>\n",
       "      <td>1</td>\n",
       "      <td>0</td>\n",
       "      <td>0</td>\n",
       "      <td>1</td>\n",
       "      <td>...</td>\n",
       "      <td>0</td>\n",
       "      <td>0</td>\n",
       "      <td>0</td>\n",
       "      <td>1</td>\n",
       "      <td>1</td>\n",
       "      <td>0</td>\n",
       "      <td>0</td>\n",
       "      <td>0</td>\n",
       "      <td>0</td>\n",
       "      <td>0</td>\n",
       "    </tr>\n",
       "    <tr>\n",
       "      <th>19154</th>\n",
       "      <td>0.920</td>\n",
       "      <td>0.152239</td>\n",
       "      <td>0</td>\n",
       "      <td>1</td>\n",
       "      <td>0</td>\n",
       "      <td>1</td>\n",
       "      <td>0</td>\n",
       "      <td>0</td>\n",
       "      <td>0</td>\n",
       "      <td>1</td>\n",
       "      <td>...</td>\n",
       "      <td>0</td>\n",
       "      <td>0</td>\n",
       "      <td>0</td>\n",
       "      <td>1</td>\n",
       "      <td>0</td>\n",
       "      <td>0</td>\n",
       "      <td>0</td>\n",
       "      <td>1</td>\n",
       "      <td>0</td>\n",
       "      <td>0</td>\n",
       "    </tr>\n",
       "    <tr>\n",
       "      <th>19155</th>\n",
       "      <td>0.920</td>\n",
       "      <td>0.128358</td>\n",
       "      <td>0</td>\n",
       "      <td>1</td>\n",
       "      <td>0</td>\n",
       "      <td>1</td>\n",
       "      <td>0</td>\n",
       "      <td>0</td>\n",
       "      <td>0</td>\n",
       "      <td>1</td>\n",
       "      <td>...</td>\n",
       "      <td>0</td>\n",
       "      <td>0</td>\n",
       "      <td>0</td>\n",
       "      <td>1</td>\n",
       "      <td>0</td>\n",
       "      <td>0</td>\n",
       "      <td>0</td>\n",
       "      <td>1</td>\n",
       "      <td>0</td>\n",
       "      <td>0</td>\n",
       "    </tr>\n",
       "    <tr>\n",
       "      <th>19156</th>\n",
       "      <td>0.802</td>\n",
       "      <td>0.286567</td>\n",
       "      <td>0</td>\n",
       "      <td>1</td>\n",
       "      <td>0</td>\n",
       "      <td>1</td>\n",
       "      <td>0</td>\n",
       "      <td>0</td>\n",
       "      <td>0</td>\n",
       "      <td>1</td>\n",
       "      <td>...</td>\n",
       "      <td>0</td>\n",
       "      <td>0</td>\n",
       "      <td>0</td>\n",
       "      <td>1</td>\n",
       "      <td>0</td>\n",
       "      <td>1</td>\n",
       "      <td>0</td>\n",
       "      <td>0</td>\n",
       "      <td>0</td>\n",
       "      <td>0</td>\n",
       "    </tr>\n",
       "    <tr>\n",
       "      <th>19157</th>\n",
       "      <td>0.855</td>\n",
       "      <td>0.376119</td>\n",
       "      <td>0</td>\n",
       "      <td>1</td>\n",
       "      <td>0</td>\n",
       "      <td>0</td>\n",
       "      <td>1</td>\n",
       "      <td>0</td>\n",
       "      <td>0</td>\n",
       "      <td>1</td>\n",
       "      <td>...</td>\n",
       "      <td>0</td>\n",
       "      <td>0</td>\n",
       "      <td>0</td>\n",
       "      <td>1</td>\n",
       "      <td>1</td>\n",
       "      <td>0</td>\n",
       "      <td>0</td>\n",
       "      <td>0</td>\n",
       "      <td>0</td>\n",
       "      <td>0</td>\n",
       "    </tr>\n",
       "  </tbody>\n",
       "</table>\n",
       "<p>19158 rows × 63 columns</p>\n",
       "</div>"
      ],
      "text/plain": [
       "       city_development_index  training_hours  gender_Female  gender_Male  \\\n",
       "0                       0.920        0.104478              0            1   \n",
       "1                       0.776        0.137313              0            1   \n",
       "2                       0.624        0.244776              0            1   \n",
       "3                       0.789        0.152239              0            1   \n",
       "4                       0.767        0.020896              0            1   \n",
       "...                       ...             ...            ...          ...   \n",
       "19153                   0.878        0.122388              0            1   \n",
       "19154                   0.920        0.152239              0            1   \n",
       "19155                   0.920        0.128358              0            1   \n",
       "19156                   0.802        0.286567              0            1   \n",
       "19157                   0.855        0.376119              0            1   \n",
       "\n",
       "       gender_Other  relevent_experience_Has relevent experience  \\\n",
       "0                 0                                            1   \n",
       "1                 0                                            0   \n",
       "2                 0                                            0   \n",
       "3                 0                                            0   \n",
       "4                 0                                            1   \n",
       "...             ...                                          ...   \n",
       "19153             0                                            0   \n",
       "19154             0                                            1   \n",
       "19155             0                                            1   \n",
       "19156             0                                            1   \n",
       "19157             0                                            0   \n",
       "\n",
       "       relevent_experience_No relevent experience  \\\n",
       "0                                               0   \n",
       "1                                               1   \n",
       "2                                               1   \n",
       "3                                               1   \n",
       "4                                               0   \n",
       "...                                           ...   \n",
       "19153                                           1   \n",
       "19154                                           0   \n",
       "19155                                           0   \n",
       "19156                                           0   \n",
       "19157                                           1   \n",
       "\n",
       "       enrolled_university_Full time course  \\\n",
       "0                                         0   \n",
       "1                                         0   \n",
       "2                                         1   \n",
       "3                                         0   \n",
       "4                                         0   \n",
       "...                                     ...   \n",
       "19153                                     0   \n",
       "19154                                     0   \n",
       "19155                                     0   \n",
       "19156                                     0   \n",
       "19157                                     0   \n",
       "\n",
       "       enrolled_university_Part time course  \\\n",
       "0                                         0   \n",
       "1                                         0   \n",
       "2                                         0   \n",
       "3                                         0   \n",
       "4                                         0   \n",
       "...                                     ...   \n",
       "19153                                     0   \n",
       "19154                                     0   \n",
       "19155                                     0   \n",
       "19156                                     0   \n",
       "19157                                     0   \n",
       "\n",
       "       enrolled_university_no_enrollment  ...  company_type_NGO  \\\n",
       "0                                      1  ...                 0   \n",
       "1                                      1  ...                 0   \n",
       "2                                      0  ...                 0   \n",
       "3                                      1  ...                 0   \n",
       "4                                      1  ...                 0   \n",
       "...                                  ...  ...               ...   \n",
       "19153                                  1  ...                 0   \n",
       "19154                                  1  ...                 0   \n",
       "19155                                  1  ...                 0   \n",
       "19156                                  1  ...                 0   \n",
       "19157                                  1  ...                 0   \n",
       "\n",
       "       company_type_Other  company_type_Public Sector  company_type_Pvt Ltd  \\\n",
       "0                       0                           0                     1   \n",
       "1                       0                           0                     1   \n",
       "2                       0                           0                     1   \n",
       "3                       0                           0                     1   \n",
       "4                       0                           0                     0   \n",
       "...                   ...                         ...                   ...   \n",
       "19153                   0                           0                     1   \n",
       "19154                   0                           0                     1   \n",
       "19155                   0                           0                     1   \n",
       "19156                   0                           0                     1   \n",
       "19157                   0                           0                     1   \n",
       "\n",
       "       last_new_job_1  last_new_job_2  last_new_job_3  last_new_job_4  \\\n",
       "0                   1               0               0               0   \n",
       "1                   0               0               0               0   \n",
       "2                   0               0               0               0   \n",
       "3                   0               0               0               0   \n",
       "4                   0               0               0               1   \n",
       "...               ...             ...             ...             ...   \n",
       "19153               1               0               0               0   \n",
       "19154               0               0               0               1   \n",
       "19155               0               0               0               1   \n",
       "19156               0               1               0               0   \n",
       "19157               1               0               0               0   \n",
       "\n",
       "       last_new_job_>4  last_new_job_never  \n",
       "0                    0                   0  \n",
       "1                    1                   0  \n",
       "2                    0                   1  \n",
       "3                    0                   1  \n",
       "4                    0                   0  \n",
       "...                ...                 ...  \n",
       "19153                0                   0  \n",
       "19154                0                   0  \n",
       "19155                0                   0  \n",
       "19156                0                   0  \n",
       "19157                0                   0  \n",
       "\n",
       "[19158 rows x 63 columns]"
      ]
     },
     "execution_count": 13,
     "metadata": {},
     "output_type": "execute_result"
    }
   ],
   "source": [
    "from sklearn.impute import SimpleImputer\n",
    "from sklearn.preprocessing import minmax_scale\n",
    "\n",
    "X_train = train.drop(['enrollee_id', 'target', 'city'], axis = 1)\n",
    "y_train = train['target']\n",
    "\n",
    "imputer = SimpleImputer(strategy = 'most_frequent')\n",
    "\n",
    "X_train_cols = X_train.columns\n",
    "X_train = imputer.fit_transform(X_train)\n",
    "X_train = pd.DataFrame(X_train, columns = X_train_cols)\n",
    "X_train.training_hours = minmax_scale(X_train.training_hours)\n",
    "X_train.city_development_index = X_train.city_development_index.astype('float64')\n",
    "X_train = pd.get_dummies(X_train)\n",
    "X_train_cols = X_train.columns\n",
    "X_train"
   ]
  },
  {
   "cell_type": "markdown",
   "metadata": {
    "papermill": {
     "duration": 0.043985,
     "end_time": "2021-02-27T23:40:14.051452",
     "exception": false,
     "start_time": "2021-02-27T23:40:14.007467",
     "status": "completed"
    },
    "tags": []
   },
   "source": [
    "# Model Fitting and Hyperparameter Tuning\n",
    "\n",
    "Now we're ready to fit our model! We'll use a random forest model, as it is a great classifier for mixed data types. We can try to adjust the model for imbalanced classes using weighting."
   ]
  },
  {
   "cell_type": "code",
   "execution_count": 14,
   "metadata": {
    "execution": {
     "iopub.execute_input": "2021-02-27T23:40:14.149218Z",
     "iopub.status.busy": "2021-02-27T23:40:14.148551Z",
     "iopub.status.idle": "2021-02-27T23:41:31.523970Z",
     "shell.execute_reply": "2021-02-27T23:41:31.524529Z"
    },
    "papermill": {
     "duration": 77.429718,
     "end_time": "2021-02-27T23:41:31.524734",
     "exception": false,
     "start_time": "2021-02-27T23:40:14.095016",
     "status": "completed"
    },
    "tags": []
   },
   "outputs": [
    {
     "name": "stdout",
     "output_type": "stream",
     "text": [
      "0.764 cross validated mean accuracy, with a std of 0.009\n",
      "0.540 cross validated mean precision, with a std of 0.026\n",
      "0.357 cross validated mean recall, with a std of 0.022\n",
      "0.641 cross validated mean F1 score, with a std of 0.014\n",
      "0.747 cross validated mean AUROC, with a std of 0.004\n"
     ]
    }
   ],
   "source": [
    "from sklearn.ensemble import RandomForestClassifier\n",
    "from sklearn.model_selection import cross_val_score\n",
    "\n",
    "rf = RandomForestClassifier(random_state = rng, class_weight = \"balanced_subsample\").fit(X_train, y_train)\n",
    "\n",
    "crossval_acc = cross_val_score(rf, X_train, y_train, scoring = 'accuracy')\n",
    "crossval_prec = cross_val_score(rf, X_train, y_train, scoring = 'precision')\n",
    "crossval_rec = cross_val_score(rf, X_train, y_train, scoring = 'recall')\n",
    "crossval_f1 = cross_val_score(rf, X_train, y_train, scoring = 'f1_macro')\n",
    "crossval_auroc = cross_val_score(rf, X_train, y_train, scoring = 'roc_auc')\n",
    "\n",
    "print(\"%.3f cross validated mean accuracy, with a std of %0.3f\" % (crossval_acc.mean(), crossval_acc.std()))\n",
    "print(\"%.3f cross validated mean precision, with a std of %0.3f\" % (crossval_prec.mean(), crossval_prec.std()))\n",
    "print(\"%.3f cross validated mean recall, with a std of %0.3f\" % (crossval_rec.mean(), crossval_rec.std()))\n",
    "print(\"%.3f cross validated mean F1 score, with a std of %0.3f\" % (crossval_f1.mean(), crossval_f1.std()))\n",
    "print(\"%.3f cross validated mean AUROC, with a std of %0.3f\" % (crossval_auroc.mean(), crossval_auroc.std()))"
   ]
  },
  {
   "cell_type": "markdown",
   "metadata": {
    "papermill": {
     "duration": 0.043303,
     "end_time": "2021-02-27T23:41:31.611699",
     "exception": false,
     "start_time": "2021-02-27T23:41:31.568396",
     "status": "completed"
    },
    "tags": []
   },
   "source": [
    "This is a good start. However, our AUROC metric (which will be the final performance metric for the task) is a little on the low side at .75. Furthermore, looking at the precision and recall scores tells us the model tends to miss people who are actually seeking new jobs. In practice, it's likely that we are mostly interested in correctly identifying new job seekers, so the low mean recall is especially troubling.\n",
    "\n",
    "We can try to improve the performance of the model by performing hyperparameter tuning. We'll try just a short list of values to see if the model improves. Since this can take a long time, the output from a previous run is shown with code commented out."
   ]
  },
  {
   "cell_type": "code",
   "execution_count": 15,
   "metadata": {
    "execution": {
     "iopub.execute_input": "2021-02-27T23:41:31.704388Z",
     "iopub.status.busy": "2021-02-27T23:41:31.703403Z",
     "iopub.status.idle": "2021-02-27T23:41:31.705936Z",
     "shell.execute_reply": "2021-02-27T23:41:31.706416Z"
    },
    "papermill": {
     "duration": 0.050975,
     "end_time": "2021-02-27T23:41:31.706620",
     "exception": false,
     "start_time": "2021-02-27T23:41:31.655645",
     "status": "completed"
    },
    "tags": []
   },
   "outputs": [],
   "source": [
    "# from sklearn.model_selection import GridSearchCV\n",
    "\n",
    "# search = {'max_features': ['auto', 'sqrt'],\n",
    "#           'n_estimators': [100, 200],\n",
    "#           'oob_score': [True, False]}\n",
    "\n",
    "# rf_ht = GridSearchCV(rf, search, scoring = 'roc_auc').fit(X_train, y_train)\n",
    "\n",
    "# print(rf_ht.best_estimator_)\n",
    "# print(rf_ht.best_params_)"
   ]
  },
  {
   "cell_type": "code",
   "execution_count": 16,
   "metadata": {
    "execution": {
     "iopub.execute_input": "2021-02-27T23:41:31.798215Z",
     "iopub.status.busy": "2021-02-27T23:41:31.797238Z",
     "iopub.status.idle": "2021-02-27T23:41:31.801634Z",
     "shell.execute_reply": "2021-02-27T23:41:31.800985Z"
    },
    "papermill": {
     "duration": 0.051237,
     "end_time": "2021-02-27T23:41:31.801821",
     "exception": false,
     "start_time": "2021-02-27T23:41:31.750584",
     "status": "completed"
    },
    "tags": []
   },
   "outputs": [],
   "source": [
    "# RandomForestClassifier(class_weight='balanced_subsample', n_estimators=200,\n",
    "#                        oob_score=True,\n",
    "#                        random_state=RandomState(MT19937) at 0x7F0606FD3160)\n",
    "# {'max_features': 'auto', 'n_estimators': 200, 'oob_score': True}"
   ]
  },
  {
   "cell_type": "markdown",
   "metadata": {
    "papermill": {
     "duration": 0.04388,
     "end_time": "2021-02-27T23:41:31.890624",
     "exception": false,
     "start_time": "2021-02-27T23:41:31.846744",
     "status": "completed"
    },
    "tags": []
   },
   "source": [
    "We'll fit a final model using these parameters and examine model performance."
   ]
  },
  {
   "cell_type": "code",
   "execution_count": 17,
   "metadata": {
    "execution": {
     "iopub.execute_input": "2021-02-27T23:41:31.992192Z",
     "iopub.status.busy": "2021-02-27T23:41:31.990951Z",
     "iopub.status.idle": "2021-02-27T23:44:24.696554Z",
     "shell.execute_reply": "2021-02-27T23:44:24.697089Z"
    },
    "papermill": {
     "duration": 172.762048,
     "end_time": "2021-02-27T23:44:24.697282",
     "exception": false,
     "start_time": "2021-02-27T23:41:31.935234",
     "status": "completed"
    },
    "tags": []
   },
   "outputs": [
    {
     "name": "stdout",
     "output_type": "stream",
     "text": [
      "0.762 cross validated mean accuracy, with a std of 0.008\n",
      "0.533 cross validated mean precision, with a std of 0.023\n",
      "0.363 cross validated mean recall, with a std of 0.018\n",
      "0.641 cross validated mean F1 score, with a std of 0.012\n",
      "0.749 cross validated mean AUROC, with a std of 0.005\n"
     ]
    }
   ],
   "source": [
    "rf_final = RandomForestClassifier(max_features = 'auto', n_estimators = 200, oob_score = True,\n",
    "                                  random_state = rng, class_weight = \"balanced_subsample\").fit(X_train, y_train)\n",
    "\n",
    "crossval_acc = cross_val_score(rf_final, X_train, y_train, scoring = 'accuracy')\n",
    "crossval_prec = cross_val_score(rf_final, X_train, y_train, scoring = 'precision')\n",
    "crossval_rec = cross_val_score(rf_final, X_train, y_train, scoring = 'recall')\n",
    "crossval_f1 = cross_val_score(rf_final, X_train, y_train, scoring = 'f1_macro')\n",
    "crossval_auroc = cross_val_score(rf_final, X_train, y_train, scoring = 'roc_auc')\n",
    "\n",
    "print(\"%.3f cross validated mean accuracy, with a std of %0.3f\" % (crossval_acc.mean(), crossval_acc.std()))\n",
    "print(\"%.3f cross validated mean precision, with a std of %0.3f\" % (crossval_prec.mean(), crossval_prec.std()))\n",
    "print(\"%.3f cross validated mean recall, with a std of %0.3f\" % (crossval_rec.mean(), crossval_rec.std()))\n",
    "print(\"%.3f cross validated mean F1 score, with a std of %0.3f\" % (crossval_f1.mean(), crossval_f1.std()))\n",
    "print(\"%.3f cross validated mean AUROC, with a std of %0.3f\" % (crossval_auroc.mean(), crossval_auroc.std()))"
   ]
  },
  {
   "cell_type": "markdown",
   "metadata": {
    "papermill": {
     "duration": 0.044429,
     "end_time": "2021-02-27T23:44:24.786636",
     "exception": false,
     "start_time": "2021-02-27T23:44:24.742207",
     "status": "completed"
    },
    "tags": []
   },
   "source": [
    "We see a slight increase to performance metrics by changing some of the parameters. In practice, we could search across many different values for each parameter and look at new parameters to adjust, but let's stick with these values for now."
   ]
  },
  {
   "cell_type": "markdown",
   "metadata": {
    "papermill": {
     "duration": 0.044705,
     "end_time": "2021-02-27T23:44:24.876025",
     "exception": false,
     "start_time": "2021-02-27T23:44:24.831320",
     "status": "completed"
    },
    "tags": []
   },
   "source": [
    "# Feature Importance\n",
    "\n",
    "To finish, we'll get a simple feature importance measure from the model:"
   ]
  },
  {
   "cell_type": "code",
   "execution_count": 18,
   "metadata": {
    "execution": {
     "iopub.execute_input": "2021-02-27T23:44:24.973232Z",
     "iopub.status.busy": "2021-02-27T23:44:24.972586Z",
     "iopub.status.idle": "2021-02-27T23:44:25.197119Z",
     "shell.execute_reply": "2021-02-27T23:44:25.196365Z"
    },
    "papermill": {
     "duration": 0.276356,
     "end_time": "2021-02-27T23:44:25.197269",
     "exception": false,
     "start_time": "2021-02-27T23:44:24.920913",
     "status": "completed"
    },
    "tags": []
   },
   "outputs": [
    {
     "data": {
      "image/png": "[encoded data removed]",
      "text/plain": [
       "<Figure size 1440x720 with 1 Axes>"
      ]
     },
     "metadata": {
      "needs_background": "light"
     },
     "output_type": "display_data"
    }
   ],
   "source": [
    "feat_imp = rf_final.feature_importances_\n",
    "indices = np.argsort(feat_imp)[::-1]\n",
    "feat_df = pd.DataFrame({'importances': feat_imp[indices],\n",
    "                        'labels' : X_train_cols})\n",
    "plt.figure(figsize = (20,10))\n",
    "plt.title(\"Feature Importances\")\n",
    "plt.bar(feat_df.loc[0:5,'labels'], feat_df.loc[0:5,'importances'], color = 'r')\n",
    "plt.show()"
   ]
  },
  {
   "cell_type": "code",
   "execution_count": 19,
   "metadata": {
    "execution": {
     "iopub.execute_input": "2021-02-27T23:44:25.302288Z",
     "iopub.status.busy": "2021-02-27T23:44:25.301613Z",
     "iopub.status.idle": "2021-02-27T23:44:25.306407Z",
     "shell.execute_reply": "2021-02-27T23:44:25.305790Z"
    },
    "papermill": {
     "duration": 0.062917,
     "end_time": "2021-02-27T23:44:25.306561",
     "exception": false,
     "start_time": "2021-02-27T23:44:25.243644",
     "status": "completed"
    },
    "tags": []
   },
   "outputs": [
    {
     "data": {
      "text/html": [
       "<div>\n",
       "<style scoped>\n",
       "    .dataframe tbody tr th:only-of-type {\n",
       "        vertical-align: middle;\n",
       "    }\n",
       "\n",
       "    .dataframe tbody tr th {\n",
       "        vertical-align: top;\n",
       "    }\n",
       "\n",
       "    .dataframe thead th {\n",
       "        text-align: right;\n",
       "    }\n",
       "</style>\n",
       "<table border=\"1\" class=\"dataframe\">\n",
       "  <thead>\n",
       "    <tr style=\"text-align: right;\">\n",
       "      <th></th>\n",
       "      <th>importances</th>\n",
       "      <th>labels</th>\n",
       "    </tr>\n",
       "  </thead>\n",
       "  <tbody>\n",
       "    <tr>\n",
       "      <th>0</th>\n",
       "      <td>0.258318</td>\n",
       "      <td>city_development_index</td>\n",
       "    </tr>\n",
       "    <tr>\n",
       "      <th>1</th>\n",
       "      <td>0.243549</td>\n",
       "      <td>training_hours</td>\n",
       "    </tr>\n",
       "    <tr>\n",
       "      <th>2</th>\n",
       "      <td>0.032567</td>\n",
       "      <td>gender_Female</td>\n",
       "    </tr>\n",
       "    <tr>\n",
       "      <th>3</th>\n",
       "      <td>0.018189</td>\n",
       "      <td>gender_Male</td>\n",
       "    </tr>\n",
       "    <tr>\n",
       "      <th>4</th>\n",
       "      <td>0.015740</td>\n",
       "      <td>gender_Other</td>\n",
       "    </tr>\n",
       "    <tr>\n",
       "      <th>5</th>\n",
       "      <td>0.014385</td>\n",
       "      <td>relevent_experience_Has relevent experience</td>\n",
       "    </tr>\n",
       "    <tr>\n",
       "      <th>6</th>\n",
       "      <td>0.013957</td>\n",
       "      <td>relevent_experience_No relevent experience</td>\n",
       "    </tr>\n",
       "    <tr>\n",
       "      <th>7</th>\n",
       "      <td>0.013358</td>\n",
       "      <td>enrolled_university_Full time course</td>\n",
       "    </tr>\n",
       "    <tr>\n",
       "      <th>8</th>\n",
       "      <td>0.012875</td>\n",
       "      <td>enrolled_university_Part time course</td>\n",
       "    </tr>\n",
       "    <tr>\n",
       "      <th>9</th>\n",
       "      <td>0.011996</td>\n",
       "      <td>enrolled_university_no_enrollment</td>\n",
       "    </tr>\n",
       "    <tr>\n",
       "      <th>10</th>\n",
       "      <td>0.011719</td>\n",
       "      <td>education_level_Graduate</td>\n",
       "    </tr>\n",
       "    <tr>\n",
       "      <th>11</th>\n",
       "      <td>0.011465</td>\n",
       "      <td>education_level_High School</td>\n",
       "    </tr>\n",
       "    <tr>\n",
       "      <th>12</th>\n",
       "      <td>0.011266</td>\n",
       "      <td>education_level_Masters</td>\n",
       "    </tr>\n",
       "    <tr>\n",
       "      <th>13</th>\n",
       "      <td>0.011146</td>\n",
       "      <td>education_level_Phd</td>\n",
       "    </tr>\n",
       "    <tr>\n",
       "      <th>14</th>\n",
       "      <td>0.010829</td>\n",
       "      <td>education_level_Primary School</td>\n",
       "    </tr>\n",
       "    <tr>\n",
       "      <th>15</th>\n",
       "      <td>0.010697</td>\n",
       "      <td>major_discipline_Arts</td>\n",
       "    </tr>\n",
       "    <tr>\n",
       "      <th>16</th>\n",
       "      <td>0.010476</td>\n",
       "      <td>major_discipline_Business Degree</td>\n",
       "    </tr>\n",
       "    <tr>\n",
       "      <th>17</th>\n",
       "      <td>0.010204</td>\n",
       "      <td>major_discipline_Humanities</td>\n",
       "    </tr>\n",
       "    <tr>\n",
       "      <th>18</th>\n",
       "      <td>0.010165</td>\n",
       "      <td>major_discipline_No Major</td>\n",
       "    </tr>\n",
       "    <tr>\n",
       "      <th>19</th>\n",
       "      <td>0.009862</td>\n",
       "      <td>major_discipline_Other</td>\n",
       "    </tr>\n",
       "    <tr>\n",
       "      <th>20</th>\n",
       "      <td>0.009528</td>\n",
       "      <td>major_discipline_STEM</td>\n",
       "    </tr>\n",
       "    <tr>\n",
       "      <th>21</th>\n",
       "      <td>0.009510</td>\n",
       "      <td>experience_1</td>\n",
       "    </tr>\n",
       "    <tr>\n",
       "      <th>22</th>\n",
       "      <td>0.009312</td>\n",
       "      <td>experience_10</td>\n",
       "    </tr>\n",
       "    <tr>\n",
       "      <th>23</th>\n",
       "      <td>0.008990</td>\n",
       "      <td>experience_11</td>\n",
       "    </tr>\n",
       "    <tr>\n",
       "      <th>24</th>\n",
       "      <td>0.008894</td>\n",
       "      <td>experience_12</td>\n",
       "    </tr>\n",
       "  </tbody>\n",
       "</table>\n",
       "</div>"
      ],
      "text/plain": [
       "    importances                                       labels\n",
       "0      0.258318                       city_development_index\n",
       "1      0.243549                               training_hours\n",
       "2      0.032567                                gender_Female\n",
       "3      0.018189                                  gender_Male\n",
       "4      0.015740                                 gender_Other\n",
       "5      0.014385  relevent_experience_Has relevent experience\n",
       "6      0.013957   relevent_experience_No relevent experience\n",
       "7      0.013358         enrolled_university_Full time course\n",
       "8      0.012875         enrolled_university_Part time course\n",
       "9      0.011996            enrolled_university_no_enrollment\n",
       "10     0.011719                     education_level_Graduate\n",
       "11     0.011465                  education_level_High School\n",
       "12     0.011266                      education_level_Masters\n",
       "13     0.011146                          education_level_Phd\n",
       "14     0.010829               education_level_Primary School\n",
       "15     0.010697                        major_discipline_Arts\n",
       "16     0.010476             major_discipline_Business Degree\n",
       "17     0.010204                  major_discipline_Humanities\n",
       "18     0.010165                    major_discipline_No Major\n",
       "19     0.009862                       major_discipline_Other\n",
       "20     0.009528                        major_discipline_STEM\n",
       "21     0.009510                                 experience_1\n",
       "22     0.009312                                experience_10\n",
       "23     0.008990                                experience_11\n",
       "24     0.008894                                experience_12"
      ]
     },
     "execution_count": 19,
     "metadata": {},
     "output_type": "execute_result"
    }
   ],
   "source": [
    "feat_df[0:25]"
   ]
  },
  {
   "cell_type": "markdown",
   "metadata": {
    "papermill": {
     "duration": 0.046187,
     "end_time": "2021-02-27T23:44:25.399804",
     "exception": false,
     "start_time": "2021-02-27T23:44:25.353617",
     "status": "completed"
    },
    "tags": []
   },
   "source": [
    "It appears as though the city development index, followed by the number of training hours, are the variables the model heavily relied on to distinguish between non-job seekers from job seekers. However, the default feature importance metrics may be skewed toward numerical variables and/or high cardinality categorical features.\n"
   ]
  },
  {
   "cell_type": "markdown",
   "metadata": {
    "papermill": {
     "duration": 0.046257,
     "end_time": "2021-02-27T23:44:25.492842",
     "exception": false,
     "start_time": "2021-02-27T23:44:25.446585",
     "status": "completed"
    },
    "tags": []
   },
   "source": [
    "# Closing Remarks\n",
    "\n",
    "To finish, we'll apply the sample preprocessing pipeline to the test data and generate our predicted classes, thus completing the assigned task. As with any machine learning model, this could be improved upon further by exploring other techniques not covered here, such as:\n",
    "\n",
    "* Under/oversampling (e.g., SMOTE)\n",
    "* Exploring other models (logistic regression, kNN, multilayer perceptron)\n",
    "* More advanced missing data imputation (e.g., multivariate techniques, model-based techniques as with kNNImputer)\n",
    "* Permutation-based feature importances \n",
    "\n",
    "...and much more!"
   ]
  },
  {
   "cell_type": "code",
   "execution_count": 20,
   "metadata": {
    "execution": {
     "iopub.execute_input": "2021-02-27T23:44:25.611946Z",
     "iopub.status.busy": "2021-02-27T23:44:25.607189Z",
     "iopub.status.idle": "2021-02-27T23:44:25.669462Z",
     "shell.execute_reply": "2021-02-27T23:44:25.670081Z"
    },
    "papermill": {
     "duration": 0.131047,
     "end_time": "2021-02-27T23:44:25.670275",
     "exception": false,
     "start_time": "2021-02-27T23:44:25.539228",
     "status": "completed"
    },
    "tags": []
   },
   "outputs": [
    {
     "data": {
      "text/html": [
       "<div>\n",
       "<style scoped>\n",
       "    .dataframe tbody tr th:only-of-type {\n",
       "        vertical-align: middle;\n",
       "    }\n",
       "\n",
       "    .dataframe tbody tr th {\n",
       "        vertical-align: top;\n",
       "    }\n",
       "\n",
       "    .dataframe thead th {\n",
       "        text-align: right;\n",
       "    }\n",
       "</style>\n",
       "<table border=\"1\" class=\"dataframe\">\n",
       "  <thead>\n",
       "    <tr style=\"text-align: right;\">\n",
       "      <th></th>\n",
       "      <th>city_development_index</th>\n",
       "      <th>training_hours</th>\n",
       "      <th>gender_Female</th>\n",
       "      <th>gender_Male</th>\n",
       "      <th>gender_Other</th>\n",
       "      <th>relevent_experience_Has relevent experience</th>\n",
       "      <th>relevent_experience_No relevent experience</th>\n",
       "      <th>enrolled_university_Full time course</th>\n",
       "      <th>enrolled_university_Part time course</th>\n",
       "      <th>enrolled_university_no_enrollment</th>\n",
       "      <th>...</th>\n",
       "      <th>company_type_NGO</th>\n",
       "      <th>company_type_Other</th>\n",
       "      <th>company_type_Public Sector</th>\n",
       "      <th>company_type_Pvt Ltd</th>\n",
       "      <th>last_new_job_1</th>\n",
       "      <th>last_new_job_2</th>\n",
       "      <th>last_new_job_3</th>\n",
       "      <th>last_new_job_4</th>\n",
       "      <th>last_new_job_&gt;4</th>\n",
       "      <th>last_new_job_never</th>\n",
       "    </tr>\n",
       "  </thead>\n",
       "  <tbody>\n",
       "    <tr>\n",
       "      <th>0</th>\n",
       "      <td>0.827</td>\n",
       "      <td>0.060060</td>\n",
       "      <td>0</td>\n",
       "      <td>1</td>\n",
       "      <td>0</td>\n",
       "      <td>1</td>\n",
       "      <td>0</td>\n",
       "      <td>1</td>\n",
       "      <td>0</td>\n",
       "      <td>0</td>\n",
       "      <td>...</td>\n",
       "      <td>0</td>\n",
       "      <td>0</td>\n",
       "      <td>0</td>\n",
       "      <td>1</td>\n",
       "      <td>1</td>\n",
       "      <td>0</td>\n",
       "      <td>0</td>\n",
       "      <td>0</td>\n",
       "      <td>0</td>\n",
       "      <td>0</td>\n",
       "    </tr>\n",
       "    <tr>\n",
       "      <th>1</th>\n",
       "      <td>0.920</td>\n",
       "      <td>0.291291</td>\n",
       "      <td>1</td>\n",
       "      <td>0</td>\n",
       "      <td>0</td>\n",
       "      <td>1</td>\n",
       "      <td>0</td>\n",
       "      <td>0</td>\n",
       "      <td>0</td>\n",
       "      <td>1</td>\n",
       "      <td>...</td>\n",
       "      <td>0</td>\n",
       "      <td>0</td>\n",
       "      <td>0</td>\n",
       "      <td>1</td>\n",
       "      <td>1</td>\n",
       "      <td>0</td>\n",
       "      <td>0</td>\n",
       "      <td>0</td>\n",
       "      <td>0</td>\n",
       "      <td>0</td>\n",
       "    </tr>\n",
       "    <tr>\n",
       "      <th>2</th>\n",
       "      <td>0.624</td>\n",
       "      <td>0.042042</td>\n",
       "      <td>0</td>\n",
       "      <td>1</td>\n",
       "      <td>0</td>\n",
       "      <td>0</td>\n",
       "      <td>1</td>\n",
       "      <td>0</td>\n",
       "      <td>0</td>\n",
       "      <td>1</td>\n",
       "      <td>...</td>\n",
       "      <td>0</td>\n",
       "      <td>0</td>\n",
       "      <td>0</td>\n",
       "      <td>1</td>\n",
       "      <td>0</td>\n",
       "      <td>0</td>\n",
       "      <td>0</td>\n",
       "      <td>0</td>\n",
       "      <td>0</td>\n",
       "      <td>1</td>\n",
       "    </tr>\n",
       "    <tr>\n",
       "      <th>3</th>\n",
       "      <td>0.827</td>\n",
       "      <td>0.114114</td>\n",
       "      <td>0</td>\n",
       "      <td>1</td>\n",
       "      <td>0</td>\n",
       "      <td>1</td>\n",
       "      <td>0</td>\n",
       "      <td>0</td>\n",
       "      <td>0</td>\n",
       "      <td>1</td>\n",
       "      <td>...</td>\n",
       "      <td>0</td>\n",
       "      <td>0</td>\n",
       "      <td>0</td>\n",
       "      <td>1</td>\n",
       "      <td>1</td>\n",
       "      <td>0</td>\n",
       "      <td>0</td>\n",
       "      <td>0</td>\n",
       "      <td>0</td>\n",
       "      <td>0</td>\n",
       "    </tr>\n",
       "    <tr>\n",
       "      <th>4</th>\n",
       "      <td>0.920</td>\n",
       "      <td>0.213213</td>\n",
       "      <td>0</td>\n",
       "      <td>1</td>\n",
       "      <td>0</td>\n",
       "      <td>1</td>\n",
       "      <td>0</td>\n",
       "      <td>0</td>\n",
       "      <td>0</td>\n",
       "      <td>1</td>\n",
       "      <td>...</td>\n",
       "      <td>0</td>\n",
       "      <td>0</td>\n",
       "      <td>0</td>\n",
       "      <td>1</td>\n",
       "      <td>0</td>\n",
       "      <td>0</td>\n",
       "      <td>0</td>\n",
       "      <td>0</td>\n",
       "      <td>1</td>\n",
       "      <td>0</td>\n",
       "    </tr>\n",
       "    <tr>\n",
       "      <th>...</th>\n",
       "      <td>...</td>\n",
       "      <td>...</td>\n",
       "      <td>...</td>\n",
       "      <td>...</td>\n",
       "      <td>...</td>\n",
       "      <td>...</td>\n",
       "      <td>...</td>\n",
       "      <td>...</td>\n",
       "      <td>...</td>\n",
       "      <td>...</td>\n",
       "      <td>...</td>\n",
       "      <td>...</td>\n",
       "      <td>...</td>\n",
       "      <td>...</td>\n",
       "      <td>...</td>\n",
       "      <td>...</td>\n",
       "      <td>...</td>\n",
       "      <td>...</td>\n",
       "      <td>...</td>\n",
       "      <td>...</td>\n",
       "      <td>...</td>\n",
       "    </tr>\n",
       "    <tr>\n",
       "      <th>2124</th>\n",
       "      <td>0.920</td>\n",
       "      <td>0.042042</td>\n",
       "      <td>0</td>\n",
       "      <td>1</td>\n",
       "      <td>0</td>\n",
       "      <td>0</td>\n",
       "      <td>1</td>\n",
       "      <td>0</td>\n",
       "      <td>0</td>\n",
       "      <td>1</td>\n",
       "      <td>...</td>\n",
       "      <td>0</td>\n",
       "      <td>0</td>\n",
       "      <td>1</td>\n",
       "      <td>0</td>\n",
       "      <td>0</td>\n",
       "      <td>0</td>\n",
       "      <td>0</td>\n",
       "      <td>1</td>\n",
       "      <td>0</td>\n",
       "      <td>0</td>\n",
       "    </tr>\n",
       "    <tr>\n",
       "      <th>2125</th>\n",
       "      <td>0.897</td>\n",
       "      <td>0.087087</td>\n",
       "      <td>0</td>\n",
       "      <td>1</td>\n",
       "      <td>0</td>\n",
       "      <td>1</td>\n",
       "      <td>0</td>\n",
       "      <td>0</td>\n",
       "      <td>0</td>\n",
       "      <td>1</td>\n",
       "      <td>...</td>\n",
       "      <td>0</td>\n",
       "      <td>0</td>\n",
       "      <td>0</td>\n",
       "      <td>1</td>\n",
       "      <td>0</td>\n",
       "      <td>1</td>\n",
       "      <td>0</td>\n",
       "      <td>0</td>\n",
       "      <td>0</td>\n",
       "      <td>0</td>\n",
       "    </tr>\n",
       "    <tr>\n",
       "      <th>2126</th>\n",
       "      <td>0.887</td>\n",
       "      <td>0.051051</td>\n",
       "      <td>0</td>\n",
       "      <td>1</td>\n",
       "      <td>0</td>\n",
       "      <td>0</td>\n",
       "      <td>1</td>\n",
       "      <td>0</td>\n",
       "      <td>0</td>\n",
       "      <td>1</td>\n",
       "      <td>...</td>\n",
       "      <td>0</td>\n",
       "      <td>0</td>\n",
       "      <td>0</td>\n",
       "      <td>1</td>\n",
       "      <td>0</td>\n",
       "      <td>0</td>\n",
       "      <td>0</td>\n",
       "      <td>0</td>\n",
       "      <td>0</td>\n",
       "      <td>1</td>\n",
       "    </tr>\n",
       "    <tr>\n",
       "      <th>2127</th>\n",
       "      <td>0.804</td>\n",
       "      <td>0.249249</td>\n",
       "      <td>0</td>\n",
       "      <td>1</td>\n",
       "      <td>0</td>\n",
       "      <td>1</td>\n",
       "      <td>0</td>\n",
       "      <td>1</td>\n",
       "      <td>0</td>\n",
       "      <td>0</td>\n",
       "      <td>...</td>\n",
       "      <td>0</td>\n",
       "      <td>0</td>\n",
       "      <td>1</td>\n",
       "      <td>0</td>\n",
       "      <td>1</td>\n",
       "      <td>0</td>\n",
       "      <td>0</td>\n",
       "      <td>0</td>\n",
       "      <td>0</td>\n",
       "      <td>0</td>\n",
       "    </tr>\n",
       "    <tr>\n",
       "      <th>2128</th>\n",
       "      <td>0.804</td>\n",
       "      <td>0.030030</td>\n",
       "      <td>0</td>\n",
       "      <td>1</td>\n",
       "      <td>0</td>\n",
       "      <td>1</td>\n",
       "      <td>0</td>\n",
       "      <td>0</td>\n",
       "      <td>0</td>\n",
       "      <td>1</td>\n",
       "      <td>...</td>\n",
       "      <td>0</td>\n",
       "      <td>0</td>\n",
       "      <td>0</td>\n",
       "      <td>1</td>\n",
       "      <td>0</td>\n",
       "      <td>1</td>\n",
       "      <td>0</td>\n",
       "      <td>0</td>\n",
       "      <td>0</td>\n",
       "      <td>0</td>\n",
       "    </tr>\n",
       "  </tbody>\n",
       "</table>\n",
       "<p>2129 rows × 63 columns</p>\n",
       "</div>"
      ],
      "text/plain": [
       "      city_development_index  training_hours  gender_Female  gender_Male  \\\n",
       "0                      0.827        0.060060              0            1   \n",
       "1                      0.920        0.291291              1            0   \n",
       "2                      0.624        0.042042              0            1   \n",
       "3                      0.827        0.114114              0            1   \n",
       "4                      0.920        0.213213              0            1   \n",
       "...                      ...             ...            ...          ...   \n",
       "2124                   0.920        0.042042              0            1   \n",
       "2125                   0.897        0.087087              0            1   \n",
       "2126                   0.887        0.051051              0            1   \n",
       "2127                   0.804        0.249249              0            1   \n",
       "2128                   0.804        0.030030              0            1   \n",
       "\n",
       "      gender_Other  relevent_experience_Has relevent experience  \\\n",
       "0                0                                            1   \n",
       "1                0                                            1   \n",
       "2                0                                            0   \n",
       "3                0                                            1   \n",
       "4                0                                            1   \n",
       "...            ...                                          ...   \n",
       "2124             0                                            0   \n",
       "2125             0                                            1   \n",
       "2126             0                                            0   \n",
       "2127             0                                            1   \n",
       "2128             0                                            1   \n",
       "\n",
       "      relevent_experience_No relevent experience  \\\n",
       "0                                              0   \n",
       "1                                              0   \n",
       "2                                              1   \n",
       "3                                              0   \n",
       "4                                              0   \n",
       "...                                          ...   \n",
       "2124                                           1   \n",
       "2125                                           0   \n",
       "2126                                           1   \n",
       "2127                                           0   \n",
       "2128                                           0   \n",
       "\n",
       "      enrolled_university_Full time course  \\\n",
       "0                                        1   \n",
       "1                                        0   \n",
       "2                                        0   \n",
       "3                                        0   \n",
       "4                                        0   \n",
       "...                                    ...   \n",
       "2124                                     0   \n",
       "2125                                     0   \n",
       "2126                                     0   \n",
       "2127                                     1   \n",
       "2128                                     0   \n",
       "\n",
       "      enrolled_university_Part time course  enrolled_university_no_enrollment  \\\n",
       "0                                        0                                  0   \n",
       "1                                        0                                  1   \n",
       "2                                        0                                  1   \n",
       "3                                        0                                  1   \n",
       "4                                        0                                  1   \n",
       "...                                    ...                                ...   \n",
       "2124                                     0                                  1   \n",
       "2125                                     0                                  1   \n",
       "2126                                     0                                  1   \n",
       "2127                                     0                                  0   \n",
       "2128                                     0                                  1   \n",
       "\n",
       "      ...  company_type_NGO  company_type_Other  company_type_Public Sector  \\\n",
       "0     ...                 0                   0                           0   \n",
       "1     ...                 0                   0                           0   \n",
       "2     ...                 0                   0                           0   \n",
       "3     ...                 0                   0                           0   \n",
       "4     ...                 0                   0                           0   \n",
       "...   ...               ...                 ...                         ...   \n",
       "2124  ...                 0                   0                           1   \n",
       "2125  ...                 0                   0                           0   \n",
       "2126  ...                 0                   0                           0   \n",
       "2127  ...                 0                   0                           1   \n",
       "2128  ...                 0                   0                           0   \n",
       "\n",
       "      company_type_Pvt Ltd  last_new_job_1  last_new_job_2  last_new_job_3  \\\n",
       "0                        1               1               0               0   \n",
       "1                        1               1               0               0   \n",
       "2                        1               0               0               0   \n",
       "3                        1               1               0               0   \n",
       "4                        1               0               0               0   \n",
       "...                    ...             ...             ...             ...   \n",
       "2124                     0               0               0               0   \n",
       "2125                     1               0               1               0   \n",
       "2126                     1               0               0               0   \n",
       "2127                     0               1               0               0   \n",
       "2128                     1               0               1               0   \n",
       "\n",
       "      last_new_job_4  last_new_job_>4  last_new_job_never  \n",
       "0                  0                0                   0  \n",
       "1                  0                0                   0  \n",
       "2                  0                0                   1  \n",
       "3                  0                0                   0  \n",
       "4                  0                1                   0  \n",
       "...              ...              ...                 ...  \n",
       "2124               1                0                   0  \n",
       "2125               0                0                   0  \n",
       "2126               0                0                   1  \n",
       "2127               0                0                   0  \n",
       "2128               0                0                   0  \n",
       "\n",
       "[2129 rows x 63 columns]"
      ]
     },
     "execution_count": 20,
     "metadata": {},
     "output_type": "execute_result"
    }
   ],
   "source": [
    "X_test = test.drop(['enrollee_id', 'city'], axis = 1)\n",
    "X_test_cols = X_test.columns\n",
    "X_test = imputer.fit_transform(X_test)\n",
    "X_test = pd.DataFrame(X_test, columns = X_test_cols)\n",
    "X_test.training_hours = minmax_scale(X_test.training_hours)\n",
    "X_test.city_development_index = X_test.city_development_index.astype('float64')\n",
    "X_test = pd.get_dummies(X_test)\n",
    "X_test_cols = X_test.columns\n",
    "X_test"
   ]
  },
  {
   "cell_type": "code",
   "execution_count": 21,
   "metadata": {
    "execution": {
     "iopub.execute_input": "2021-02-27T23:44:25.773592Z",
     "iopub.status.busy": "2021-02-27T23:44:25.772891Z",
     "iopub.status.idle": "2021-02-27T23:44:25.883756Z",
     "shell.execute_reply": "2021-02-27T23:44:25.883089Z"
    },
    "papermill": {
     "duration": 0.166235,
     "end_time": "2021-02-27T23:44:25.883895",
     "exception": false,
     "start_time": "2021-02-27T23:44:25.717660",
     "status": "completed"
    },
    "tags": []
   },
   "outputs": [
    {
     "data": {
      "text/html": [
       "<div>\n",
       "<style scoped>\n",
       "    .dataframe tbody tr th:only-of-type {\n",
       "        vertical-align: middle;\n",
       "    }\n",
       "\n",
       "    .dataframe tbody tr th {\n",
       "        vertical-align: top;\n",
       "    }\n",
       "\n",
       "    .dataframe thead th {\n",
       "        text-align: right;\n",
       "    }\n",
       "</style>\n",
       "<table border=\"1\" class=\"dataframe\">\n",
       "  <thead>\n",
       "    <tr style=\"text-align: right;\">\n",
       "      <th></th>\n",
       "      <th>enrollee_id</th>\n",
       "      <th>target</th>\n",
       "    </tr>\n",
       "  </thead>\n",
       "  <tbody>\n",
       "    <tr>\n",
       "      <th>0</th>\n",
       "      <td>32403</td>\n",
       "      <td>0.070000</td>\n",
       "    </tr>\n",
       "    <tr>\n",
       "      <th>1</th>\n",
       "      <td>9858</td>\n",
       "      <td>0.490000</td>\n",
       "    </tr>\n",
       "    <tr>\n",
       "      <th>2</th>\n",
       "      <td>31806</td>\n",
       "      <td>0.280000</td>\n",
       "    </tr>\n",
       "    <tr>\n",
       "      <th>3</th>\n",
       "      <td>27385</td>\n",
       "      <td>0.070000</td>\n",
       "    </tr>\n",
       "    <tr>\n",
       "      <th>4</th>\n",
       "      <td>27724</td>\n",
       "      <td>0.007495</td>\n",
       "    </tr>\n",
       "    <tr>\n",
       "      <th>...</th>\n",
       "      <td>...</td>\n",
       "      <td>...</td>\n",
       "    </tr>\n",
       "    <tr>\n",
       "      <th>2124</th>\n",
       "      <td>1289</td>\n",
       "      <td>0.200000</td>\n",
       "    </tr>\n",
       "    <tr>\n",
       "      <th>2125</th>\n",
       "      <td>195</td>\n",
       "      <td>0.260000</td>\n",
       "    </tr>\n",
       "    <tr>\n",
       "      <th>2126</th>\n",
       "      <td>31762</td>\n",
       "      <td>0.020000</td>\n",
       "    </tr>\n",
       "    <tr>\n",
       "      <th>2127</th>\n",
       "      <td>7873</td>\n",
       "      <td>0.160000</td>\n",
       "    </tr>\n",
       "    <tr>\n",
       "      <th>2128</th>\n",
       "      <td>12215</td>\n",
       "      <td>0.110000</td>\n",
       "    </tr>\n",
       "  </tbody>\n",
       "</table>\n",
       "<p>2129 rows × 2 columns</p>\n",
       "</div>"
      ],
      "text/plain": [
       "      enrollee_id    target\n",
       "0           32403  0.070000\n",
       "1            9858  0.490000\n",
       "2           31806  0.280000\n",
       "3           27385  0.070000\n",
       "4           27724  0.007495\n",
       "...           ...       ...\n",
       "2124         1289  0.200000\n",
       "2125          195  0.260000\n",
       "2126        31762  0.020000\n",
       "2127         7873  0.160000\n",
       "2128        12215  0.110000\n",
       "\n",
       "[2129 rows x 2 columns]"
      ]
     },
     "execution_count": 21,
     "metadata": {},
     "output_type": "execute_result"
    }
   ],
   "source": [
    "en_id = test['enrollee_id']\n",
    "probs = rf.predict_proba(X_test)\n",
    "probs = probs[:,1]\n",
    "submission = pd.DataFrame({'enrollee_id' : en_id,\n",
    "                         'target' : probs})\n",
    "submission.to_csv(\"submission.csv\")\n",
    "submission"
   ]
  },
  {
   "cell_type": "markdown",
   "metadata": {
    "papermill": {
     "duration": 0.047654,
     "end_time": "2021-02-27T23:44:25.979956",
     "exception": false,
     "start_time": "2021-02-27T23:44:25.932302",
     "status": "completed"
    },
    "tags": []
   },
   "source": [
    "# Contact Information\n",
    "\n",
    "My name is Adrian Abellanoza, M.S. I am a Ph.D candidate in experimental psychology at the University of Texas at Arlington. In addition to being an academic researcher, I am an aspiring data scientist/analyst with previous internship experience in eCommerce, UX, and business intelligence. Feel free to contact me with questions, comments, or advice! I'd love to hear your input.\n",
    "\n",
    "* LinkedIn: https://www.linkedin.com/in/aabellanoza/\n",
    "* Email: a.abellanoz93@gmail.com\n",
    "* GitHub: https://github.com/AAbellanoza"
   ]
  }
 ],
 "metadata": {
  "kernelspec": {
   "display_name": "Python 3",
   "language": "python",
   "name": "python3"
  },
  "language_info": {
   "codemirror_mode": {
    "name": "ipython",
    "version": 3
   },
   "file_extension": ".py",
   "mimetype": "text/x-python",
   "name": "python",
   "nbconvert_exporter": "python",
   "pygments_lexer": "ipython3",
   "version": "3.7.9"
  },
  "papermill": {
   "default_parameters": {},
   "duration": 269.709742,
   "end_time": "2021-02-27T23:44:26.740549",
   "environment_variables": {},
   "exception": null,
   "input_path": "__notebook__.ipynb",
   "output_path": "__notebook__.ipynb",
   "parameters": {},
   "start_time": "2021-02-27T23:39:57.030807",
   "version": "2.2.2"
  }
 },
 "nbformat": 4,
 "nbformat_minor": 4
}
